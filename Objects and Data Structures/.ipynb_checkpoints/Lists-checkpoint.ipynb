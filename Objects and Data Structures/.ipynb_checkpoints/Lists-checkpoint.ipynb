{
 "cells": [
  {
   "cell_type": "markdown",
   "metadata": {},
   "source": [
    "# Lists"
   ]
  },
  {
   "cell_type": "markdown",
   "metadata": {},
   "source": [
    "A list is an indexable and mutable sequence of objects. In short, lists are capable of holding various types of objects. Understand that this is a **data structure**, as it holds data for us.\n",
    "\n",
    "In this lecture we will cover:\n",
    "\n",
    "    1. Initializing a List\n",
    "    2. Indexing, Slicing and Combining Lists\n",
    "    3. List Functions and Methods\n",
    "    4. List Comprehensions and Pythonic Code\n",
    "    5. Nesting Lists"
   ]
  },
  {
   "cell_type": "markdown",
   "metadata": {},
   "source": [
    "## Initializing Lists"
   ]
  },
  {
   "cell_type": "markdown",
   "metadata": {},
   "source": [
    "You initialize a list with bracket notation, with each object in the list seperated with a comma."
   ]
  },
  {
   "cell_type": "code",
   "execution_count": 2,
   "metadata": {
    "collapsed": true
   },
   "outputs": [],
   "source": [
    "# Creating a list with the numbers 1 to 5\n",
    "my_list = [1, 2, 3, 4, 5]"
   ]
  },
  {
   "cell_type": "markdown",
   "metadata": {},
   "source": [
    "Recall that we mentioned about lists having the ability to store multiple types of objects. If you are familiar with other programming languages, this is not always the case. Python, however, has allowed us to do so."
   ]
  },
  {
   "cell_type": "code",
   "execution_count": 3,
   "metadata": {
    "collapsed": true
   },
   "outputs": [],
   "source": [
    "# Creating a list with an integer, string, and float.\n",
    "my_new_list = [3, \"Houston\", 4.5]"
   ]
  },
  {
   "cell_type": "markdown",
   "metadata": {},
   "source": [
    "Lastly, you can also create lists that have lists in them. An example of this is provided in the next cell, but we will talk about it further in the \"Nesting Lists\" section. Here, the list [3, 4, 5] is also considered one single object inside of a_list."
   ]
  },
  {
   "cell_type": "code",
   "execution_count": 5,
   "metadata": {
    "collapsed": true
   },
   "outputs": [],
   "source": [
    "# This list contains 1, 2, and the list [3, 4, 5]\n",
    "a_list = [1, 2, [3, 4, 5]]"
   ]
  },
  {
   "cell_type": "markdown",
   "metadata": {},
   "source": [
    "## Indexing Lists"
   ]
  },
  {
   "cell_type": "markdown",
   "metadata": {},
   "source": [
    "Lists are contiguous, monolithic data structures. When we talk about objects in memory, we mean that every object has some dedicated space in memory. In a list, objects are \"next\" to eachother in memory. This means that accessing the next list object is as simple as finding the index of that object in the list, since it can only be some constant defined in memory. Consider this list:\n",
    "\n",
    "    lst = [1, \"hello\", 2.3]\n",
    "\n",
    "Here, the number 1 comes before \"hello\" in memory, and the number 2.3 comes after \"hello\" in memory. They are seperated by some given space, and are thus contiguous in memory. Why does contiguousness matter? It means we can index lists and get their objects out. Recall indexing a string:"
   ]
  },
  {
   "cell_type": "code",
   "execution_count": 23,
   "metadata": {
    "collapsed": false
   },
   "outputs": [],
   "source": [
    "# Declaring a string\n",
    "my_str = \"hello\""
   ]
  },
  {
   "cell_type": "code",
   "execution_count": 24,
   "metadata": {
    "collapsed": false
   },
   "outputs": [
    {
     "name": "stdout",
     "output_type": "stream",
     "text": [
      "h e l l o\n"
     ]
    }
   ],
   "source": [
    "# Writing a print function with comma seperation (each object is printed with a space next to the previous)\n",
    "print(my_str[0], my_str[1], my_str[2], my_str[3], my_str[4])"
   ]
  },
  {
   "cell_type": "markdown",
   "metadata": {},
   "source": [
    "Let us now declare a list and try working with the same indexing constructs that functioned with a string."
   ]
  },
  {
   "cell_type": "code",
   "execution_count": 25,
   "metadata": {
    "collapsed": true
   },
   "outputs": [],
   "source": [
    "# Declare a list with varying object types\n",
    "lst = [1, \"hello\", 2.3]"
   ]
  },
  {
   "cell_type": "code",
   "execution_count": 27,
   "metadata": {
    "collapsed": false
   },
   "outputs": [
    {
     "name": "stdout",
     "output_type": "stream",
     "text": [
      "1\n"
     ]
    }
   ],
   "source": [
    "# printing the first object in a list\n",
    "print(lst[0])"
   ]
  },
  {
   "cell_type": "code",
   "execution_count": 28,
   "metadata": {
    "collapsed": false
   },
   "outputs": [
    {
     "name": "stdout",
     "output_type": "stream",
     "text": [
      "1 hello 2.3\n"
     ]
    }
   ],
   "source": [
    "# printing all of the objects in the list\n",
    "print(lst[0], lst[1], lst[2])"
   ]
  },
  {
   "cell_type": "markdown",
   "metadata": {},
   "source": [
    "## Slicing Lists"
   ]
  },
  {
   "cell_type": "markdown",
   "metadata": {},
   "source": [
    "A slice of a sequence is the act of accessing multiple objects within it simultaneously. The notation may look familiar.\n",
    "\n",
    "    my_list[start:end:skip]\n",
    "\n",
    "Recall the behavior when working with strings (sequence of characters)."
   ]
  },
  {
   "cell_type": "code",
   "execution_count": 29,
   "metadata": {
    "collapsed": true
   },
   "outputs": [],
   "source": [
    "# Declaring a string\n",
    "my_str = \"goodbye\""
   ]
  },
  {
   "cell_type": "code",
   "execution_count": 30,
   "metadata": {
    "collapsed": false
   },
   "outputs": [
    {
     "name": "stdout",
     "output_type": "stream",
     "text": [
      "goo\n"
     ]
    }
   ],
   "source": [
    "# Access first 3 objects in list (item 0, 1, 2)\n",
    "print(my_str[0:3])"
   ]
  },
  {
   "cell_type": "markdown",
   "metadata": {},
   "source": [
    "Let's also review notation. We could right the above cell this way, too."
   ]
  },
  {
   "cell_type": "code",
   "execution_count": 31,
   "metadata": {
    "collapsed": false
   },
   "outputs": [
    {
     "name": "stdout",
     "output_type": "stream",
     "text": [
      "goo\n"
     ]
    }
   ],
   "source": [
    "print(my_str[:3])"
   ]
  },
  {
   "cell_type": "markdown",
   "metadata": {},
   "source": [
    "A few more examples."
   ]
  },
  {
   "cell_type": "code",
   "execution_count": 32,
   "metadata": {
    "collapsed": false
   },
   "outputs": [
    {
     "name": "stdout",
     "output_type": "stream",
     "text": [
      "oodbye\n"
     ]
    }
   ],
   "source": [
    "# Access beginning to 2nd character to end\n",
    "print(my_str[1:])"
   ]
  },
  {
   "cell_type": "code",
   "execution_count": 34,
   "metadata": {
    "collapsed": false
   },
   "outputs": [
    {
     "name": "stdout",
     "output_type": "stream",
     "text": [
      "gobe\n"
     ]
    }
   ],
   "source": [
    "# Access every other character (skipping)\n",
    "print(my_str[::2])"
   ]
  },
  {
   "cell_type": "code",
   "execution_count": 36,
   "metadata": {
    "collapsed": false
   },
   "outputs": [
    {
     "name": "stdout",
     "output_type": "stream",
     "text": [
      "eybdoog\n"
     ]
    }
   ],
   "source": [
    "# Access backwards\n",
    "print(my_str[::-1])"
   ]
  },
  {
   "cell_type": "markdown",
   "metadata": {},
   "source": [
    "Lists work no differently. Slicing lists is shown below."
   ]
  },
  {
   "cell_type": "code",
   "execution_count": 39,
   "metadata": {
    "collapsed": true
   },
   "outputs": [],
   "source": [
    "# A list with strings, integer, and float\n",
    "my_list = [\"a\", \"collection\", \"of\", 4, \"version\", 5.0, \"glasses\"]"
   ]
  },
  {
   "cell_type": "code",
   "execution_count": 40,
   "metadata": {
    "collapsed": false
   },
   "outputs": [
    {
     "name": "stdout",
     "output_type": "stream",
     "text": [
      "['a', 'collection', 'of', 4, 'version', 5.0, 'glasses']\n"
     ]
    }
   ],
   "source": [
    "# To end\n",
    "print(my_list[0:])"
   ]
  },
  {
   "cell_type": "code",
   "execution_count": 42,
   "metadata": {
    "collapsed": false
   },
   "outputs": [
    {
     "name": "stdout",
     "output_type": "stream",
     "text": [
      "['of', 4, 'version']\n"
     ]
    }
   ],
   "source": [
    "# middle 3\n",
    "print(my_list[2:5])"
   ]
  },
  {
   "cell_type": "code",
   "execution_count": 43,
   "metadata": {
    "collapsed": false
   },
   "outputs": [
    {
     "name": "stdout",
     "output_type": "stream",
     "text": [
      "['glasses', 5.0, 'version', 4, 'of', 'collection', 'a']\n"
     ]
    }
   ],
   "source": [
    "# backwards\n",
    "print(my_list[::-1])"
   ]
  },
  {
   "cell_type": "markdown",
   "metadata": {},
   "source": [
    "In general, string and list behavior is similar because they are both objects that are sequences. More specifically, lists are data structures - strings are not."
   ]
  },
  {
   "cell_type": "markdown",
   "metadata": {},
   "source": [
    "## Combining Lists"
   ]
  },
  {
   "cell_type": "markdown",
   "metadata": {},
   "source": [
    "Like numbers, lists can use mathematical operators (some of them). Consider the following.\n",
    "\n",
    "    Addition - appending a new list to the end\n",
    "    Multiplying - appending the list itself by provided integer constant\n",
    "    "
   ]
  },
  {
   "cell_type": "code",
   "execution_count": 10,
   "metadata": {
    "collapsed": true
   },
   "outputs": [],
   "source": [
    "my_list = [\"wow\", 1, 2]"
   ]
  },
  {
   "cell_type": "markdown",
   "metadata": {},
   "source": [
    "Adding two lists is what you would expect. The list is appended (added) to the end. It could be a list of a single object - it does not matter."
   ]
  },
  {
   "cell_type": "code",
   "execution_count": 11,
   "metadata": {
    "collapsed": false
   },
   "outputs": [
    {
     "name": "stdout",
     "output_type": "stream",
     "text": [
      "['wow', 1, 2, 'wow', 1, 2]\n"
     ]
    }
   ],
   "source": [
    "# Adding two lists\n",
    "my_list = my_list + my_list\n",
    "print(my_list)"
   ]
  },
  {
   "cell_type": "markdown",
   "metadata": {},
   "source": [
    "Multiplication on a list can be done with a constant number. You cannot multiply two lists together (only a constant to replicate the list at hand)."
   ]
  },
  {
   "cell_type": "code",
   "execution_count": 15,
   "metadata": {
    "collapsed": false
   },
   "outputs": [
    {
     "name": "stdout",
     "output_type": "stream",
     "text": [
      "['wow', 1, 2, 'wow', 1, 2, 'wow', 1, 2]\n"
     ]
    }
   ],
   "source": [
    "my_list = [\"wow\", 1, 2]\n",
    "my_list = my_list * 3\n",
    "print(my_list)"
   ]
  },
  {
   "cell_type": "markdown",
   "metadata": {},
   "source": [
    "## List Functions and Methods"
   ]
  },
  {
   "cell_type": "markdown",
   "metadata": {},
   "source": [
    "In the Python Standard Library, each built-in object has its own set of functions and methods. The mathematical operators used with numbers +, -, *, and / actually correspond to the \"__add__\", \"__sub__\", \"__mul__\" and \"__div__\" functions. Lists are no different. They also have their own functions."
   ]
  },
  {
   "cell_type": "markdown",
   "metadata": {},
   "source": [
    "### List Functions"
   ]
  },
  {
   "cell_type": "markdown",
   "metadata": {},
   "source": [
    "The function len() is one you will use very often. Recall that functions are not associated with specific objects. "
   ]
  },
  {
   "cell_type": "code",
   "execution_count": 16,
   "metadata": {
    "collapsed": true
   },
   "outputs": [],
   "source": [
    "# Length of my list\n",
    "my_list = [1, 2, \"baby\", \"just\"]"
   ]
  },
  {
   "cell_type": "code",
   "execution_count": 17,
   "metadata": {
    "collapsed": false
   },
   "outputs": [
    {
     "name": "stdout",
     "output_type": "stream",
     "text": [
      "4\n"
     ]
    }
   ],
   "source": [
    "# Get the length\n",
    "print(len(my_list))"
   ]
  },
  {
   "cell_type": "markdown",
   "metadata": {},
   "source": [
    "### List Methods"
   ]
  },
  {
   "cell_type": "markdown",
   "metadata": {},
   "source": [
    "There are many important list methods. Recall that methods are functions that have an association with an object."
   ]
  },
  {
   "cell_type": "code",
   "execution_count": null,
   "metadata": {
    "collapsed": true
   },
   "outputs": [],
   "source": []
  }
 ],
 "metadata": {
  "kernelspec": {
   "display_name": "Python 3",
   "language": "python",
   "name": "python3"
  },
  "language_info": {
   "codemirror_mode": {
    "name": "ipython",
    "version": 3
   },
   "file_extension": ".py",
   "mimetype": "text/x-python",
   "name": "python",
   "nbconvert_exporter": "python",
   "pygments_lexer": "ipython3",
   "version": "3.5.1"
  }
 },
 "nbformat": 4,
 "nbformat_minor": 0
}
