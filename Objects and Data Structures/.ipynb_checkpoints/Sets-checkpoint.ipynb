{
 "cells": [
  {
   "cell_type": "markdown",
   "metadata": {},
   "source": [
    "## Sets"
   ]
  },
  {
   "cell_type": "markdown",
   "metadata": {},
   "source": [
    "A Set is an unordered collection of unique and immutable objects. Sets can be heterogenous in composition. A set is it's own category of data structures, as is a sequence and a mapping. However, the set category in Python has one data structure, literally known as the set, while sequences in Python are strings, lists, tuples, etc. In this lecture, we will cover:\n",
    "\n",
    "    1. Initializing a Set\n",
    "        > Curly bracket notation\n",
    "    2. Access and Modifying a Set\n",
    "    3. Initialize a Set using set() function"
   ]
  },
  {
   "cell_type": "markdown",
   "metadata": {},
   "source": [
    "## Initializing a Set"
   ]
  },
  {
   "cell_type": "markdown",
   "metadata": {},
   "source": [
    "We can initialize a set using curly bracket notation or the set() built-in function. In sets, all objects must be hashable types, like the key of a dictionary. This means that lists and dictionaries cannot be in a set, but objects like numbers and strings can be."
   ]
  },
  {
   "cell_type": "code",
   "execution_count": 18,
   "metadata": {
    "collapsed": false
   },
   "outputs": [],
   "source": [
    "# Creating a Set using curly bracket notation\n",
    "my_set = {\"MONDAY\", \"TUESDAY\", \"WEDNESDAY\"}"
   ]
  },
  {
   "cell_type": "markdown",
   "metadata": {},
   "source": [
    "Sets can be heterogenous, as long as they are unique, too. "
   ]
  },
  {
   "cell_type": "code",
   "execution_count": 24,
   "metadata": {
    "collapsed": false
   },
   "outputs": [],
   "source": [
    "my_set = {\"Hello\", 9.0, \"foo\", 19}"
   ]
  },
  {
   "cell_type": "markdown",
   "metadata": {},
   "source": [
    "Notice how all of the objects in the set we made are unique. What if we make a set like this?"
   ]
  },
  {
   "cell_type": "code",
   "execution_count": 29,
   "metadata": {
    "collapsed": true
   },
   "outputs": [],
   "source": [
    "# A set with non-unique elements?\n",
    "my_set = {\"Hello\", \"Hello\", 9.0, 9.0}"
   ]
  },
  {
   "cell_type": "markdown",
   "metadata": {},
   "source": [
    "Fear not - no errors or exceptions are raised when adding items that already exist in a set, they are just considerd by the set once. **While the cell does not accurately represent this, we can print and verify.**"
   ]
  },
  {
   "cell_type": "code",
   "execution_count": 28,
   "metadata": {
    "collapsed": false
   },
   "outputs": [
    {
     "name": "stdout",
     "output_type": "stream",
     "text": [
      "{9.0, 'Hello'}\n"
     ]
    }
   ],
   "source": [
    "# A set with non-unique elements?\n",
    "my_set = {\"Hello\", \"Hello\", 9.0, 9.0}\n",
    "# Verifying that the set only considered each item once\n",
    "print(my_set)"
   ]
  },
  {
   "cell_type": "markdown",
   "metadata": {},
   "source": [
    "## Set Methods"
   ]
  },
  {
   "cell_type": "markdown",
   "metadata": {},
   "source": [
    "The only built-in set function we need to use is discussed in the next section of this notebook. Let's take a look at set methods before we talk about the set() method.\n",
    "\n",
    "    1. add()\n",
    "    2. clear()\n",
    "    3. copy()\n",
    "    4. difference()\n",
    "    5. discard()\n",
    "    6. pop()\n",
    "    7. remove()\n",
    "    \n",
    "Let's begin by initializing a set with curly bracket notation, and then using these methods.    "
   ]
  },
  {
   "cell_type": "code",
   "execution_count": 6,
   "metadata": {
    "collapsed": true
   },
   "outputs": [],
   "source": [
    "# Create a Set of strings\n",
    "yoz_set = {\"Temple Run\", \"2048\", \"Fruit Ninja\", \"Crossy Road\"}"
   ]
  },
  {
   "cell_type": "markdown",
   "metadata": {},
   "source": [
    "The **add()** method adds an item to a set (mutator)."
   ]
  },
  {
   "cell_type": "code",
   "execution_count": 8,
   "metadata": {
    "collapsed": false
   },
   "outputs": [
    {
     "name": "stdout",
     "output_type": "stream",
     "text": [
      "{'Temple Run', 'Crossy Road', '2048', 'Blocky', 'Fruit Ninja'}\n"
     ]
    }
   ],
   "source": [
    "# Add an object to our set\n",
    "yoz_set.add(\"Blocky\")\n",
    "# Verify\n",
    "print(yoz_set)"
   ]
  },
  {
   "cell_type": "markdown",
   "metadata": {},
   "source": [
    "A call to **clear()** on a set deletes all of its objects."
   ]
  },
  {
   "cell_type": "code",
   "execution_count": 11,
   "metadata": {
    "collapsed": false
   },
   "outputs": [
    {
     "name": "stdout",
     "output_type": "stream",
     "text": [
      "set()\n"
     ]
    }
   ],
   "source": [
    "# Clear a Set\n",
    "yoz_set.clear()\n",
    "# Verify\n",
    "print(yoz_set)"
   ]
  },
  {
   "cell_type": "markdown",
   "metadata": {},
   "source": [
    "The **copy()** method returns a copy of the set object. It allows the programmer to quickly replicate the object distinctly (not object reference)."
   ]
  },
  {
   "cell_type": "code",
   "execution_count": 13,
   "metadata": {
    "collapsed": false
   },
   "outputs": [
    {
     "name": "stdout",
     "output_type": "stream",
     "text": [
      "{'Temple Run', 'Crossy Road', '2048', 'Fruit Ninja'}\n"
     ]
    }
   ],
   "source": [
    "# Recreate yoz_set\n",
    "yoz_set = {\"Temple Run\", \"2048\", \"Fruit Ninja\", \"Crossy Road\"}\n",
    "# Copy and save the set\n",
    "my_second_yoz_set = yoz_set.copy()\n",
    "# Verify\n",
    "print(my_second_yoz_set)"
   ]
  },
  {
   "cell_type": "markdown",
   "metadata": {},
   "source": [
    "The **difference()** method returns the objects that make a set different from the implicit parameter.\n",
    "\n",
    "    implicit_set.difference(explicit_set)\n",
    "    \n",
    "Returns objects from the implicit_set that do not exist in the explicit set."
   ]
  },
  {
   "cell_type": "code",
   "execution_count": 23,
   "metadata": {
    "collapsed": false
   },
   "outputs": [
    {
     "data": {
      "text/plain": [
       "{'foo', 'woo'}"
      ]
     },
     "execution_count": 23,
     "metadata": {},
     "output_type": "execute_result"
    }
   ],
   "source": [
    "# Create a set\n",
    "my_set = {\"woo\", \"foo\"}\n",
    "# Create another set\n",
    "my_2_set = {\"rsoos\", \"dja\"}\n",
    "# Difference\n",
    "my_set.difference(my_2_set)"
   ]
  },
  {
   "cell_type": "markdown",
   "metadata": {},
   "source": [
    "The **discard(object)** method removes an object from the set. If object is not in set, nothing is removed."
   ]
  },
  {
   "cell_type": "code",
   "execution_count": 34,
   "metadata": {
    "collapsed": false
   },
   "outputs": [
    {
     "name": "stdout",
     "output_type": "stream",
     "text": [
      "{'Temple Run', 'Crossy Road', '2048'}\n"
     ]
    }
   ],
   "source": [
    "# Create a Set\n",
    "yoz_set = {\"Temple Run\", \"2048\", \"Fruit Ninja\", \"Crossy Road\"}\n",
    "# Discard \"Fruit Ninja\"\n",
    "yoz_set.discard(\"Fruit Ninja\")\n",
    "# Verify that \"Fruit Ninja\" is gone from set\n",
    "print(yoz_set)"
   ]
  },
  {
   "cell_type": "markdown",
   "metadata": {},
   "source": [
    "The **pop()** removes and returns an arbitrary element from the set."
   ]
  },
  {
   "cell_type": "code",
   "execution_count": 36,
   "metadata": {
    "collapsed": false
   },
   "outputs": [
    {
     "name": "stdout",
     "output_type": "stream",
     "text": [
      "{'woo'}\n"
     ]
    }
   ],
   "source": [
    "# Create a Set\n",
    "my_set = {\"woo\", \"foo\"}\n",
    "# Pop an element\n",
    "my_set.pop()\n",
    "# verify something was removed\n",
    "print(my_set)"
   ]
  },
  {
   "cell_type": "markdown",
   "metadata": {},
   "source": [
    "The **remove()** method removes an object from a set. However, unlike the discard() method, it raises a KeyError if the element is not present."
   ]
  },
  {
   "cell_type": "code",
   "execution_count": 37,
   "metadata": {
    "collapsed": false
   },
   "outputs": [
    {
     "name": "stdout",
     "output_type": "stream",
     "text": [
      "{'Tahalasee', 'Chicago'}\n"
     ]
    }
   ],
   "source": [
    "# Create a Set\n",
    "my_set = {\"Chicago\", \"Tahalasee\", \"Houston\"}\n",
    "# Remove Houston from the set\n",
    "my_set.remove(\"Houston\")\n",
    "# Verify Houston is gone\n",
    "print(my_set)"
   ]
  },
  {
   "cell_type": "code",
   "execution_count": 38,
   "metadata": {
    "collapsed": false
   },
   "outputs": [
    {
     "ename": "KeyError",
     "evalue": "'Boston'",
     "output_type": "error",
     "traceback": [
      "\u001b[1;31m---------------------------------------------------------------------------\u001b[0m",
      "\u001b[1;31mKeyError\u001b[0m                                  Traceback (most recent call last)",
      "\u001b[1;32m<ipython-input-38-d7124660f549>\u001b[0m in \u001b[0;36m<module>\u001b[1;34m()\u001b[0m\n\u001b[0;32m      1\u001b[0m \u001b[1;31m# Try to remove Boston from the set (it doesn't exist)\u001b[0m\u001b[1;33m\u001b[0m\u001b[1;33m\u001b[0m\u001b[0m\n\u001b[1;32m----> 2\u001b[1;33m \u001b[0mmy_set\u001b[0m\u001b[1;33m.\u001b[0m\u001b[0mremove\u001b[0m\u001b[1;33m(\u001b[0m\u001b[1;34m\"Boston\"\u001b[0m\u001b[1;33m)\u001b[0m\u001b[1;33m\u001b[0m\u001b[0m\n\u001b[0m",
      "\u001b[1;31mKeyError\u001b[0m: 'Boston'"
     ]
    }
   ],
   "source": [
    "# Try to remove Boston from the set (it doesn't exist)\n",
    "my_set.remove(\"Boston\")"
   ]
  },
  {
   "cell_type": "markdown",
   "metadata": {},
   "source": [
    "## Set() Method"
   ]
  },
  {
   "cell_type": "markdown",
   "metadata": {},
   "source": [
    "We can also use the **set()** built-in function to create a set. Set has two constructors:\n",
    "\n",
    "    set() - Creates an empty set object\n",
    "    set(iterable) - Creates a set from an iterable\n",
    "    \n",
    "If we create an empty set using set(), we use the built-in set methods to operate on it."
   ]
  },
  {
   "cell_type": "code",
   "execution_count": 39,
   "metadata": {
    "collapsed": true
   },
   "outputs": [],
   "source": [
    "# Create a set with set()\n",
    "x = set()"
   ]
  },
  {
   "cell_type": "code",
   "execution_count": 41,
   "metadata": {
    "collapsed": false
   },
   "outputs": [
    {
     "name": "stdout",
     "output_type": "stream",
     "text": [
      "{'Hello', 'River', 1}\n"
     ]
    }
   ],
   "source": [
    "# Adding items to the set\n",
    "x.add(\"Hello\")\n",
    "x.add(1)\n",
    "x.add(\"River\")\n",
    "# Verify set() and add() work\n",
    "print(x)"
   ]
  }
 ],
 "metadata": {
  "kernelspec": {
   "display_name": "Python 3",
   "language": "python",
   "name": "python3"
  },
  "language_info": {
   "codemirror_mode": {
    "name": "ipython",
    "version": 3
   },
   "file_extension": ".py",
   "mimetype": "text/x-python",
   "name": "python",
   "nbconvert_exporter": "python",
   "pygments_lexer": "ipython3",
   "version": "3.5.1"
  }
 },
 "nbformat": 4,
 "nbformat_minor": 0
}
