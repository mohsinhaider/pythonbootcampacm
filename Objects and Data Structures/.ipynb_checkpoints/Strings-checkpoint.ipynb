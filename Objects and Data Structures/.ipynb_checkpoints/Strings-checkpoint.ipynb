{
 "cells": [
  {
   "cell_type": "markdown",
   "metadata": {},
   "source": [
    "# Strings"
   ]
  },
  {
   "cell_type": "markdown",
   "metadata": {},
   "source": [
    "A string are an immutable and indexable sequence of characters in Python. Strings are used in many programming languages to hold text. We have defined strings as a sequence, because each character of a string, in Python, can be accessed individually. Strings can be composed of any character sequence. In this lecture, we will cover:"
   ]
  },
  {
   "cell_type": "markdown",
   "metadata": {},
   "source": [
    "    1. Declaring strings\n",
    "    2. Printing strings\n",
    "    3. Escape Sequences\n",
    "    4. Common string functions and methods\n",
    "    5. Indexing and Slicing strings\n",
    "    6. String properties\n",
    "    7. More on Printing"
   ]
  },
  {
   "cell_type": "markdown",
   "metadata": {},
   "source": [
    "## Declaring Strings"
   ]
  },
  {
   "cell_type": "markdown",
   "metadata": {},
   "source": [
    "Assigning a string variable is just like assigning any other variable. You can define a string to the right of the \"=\" operator by starting with either single quotes 'string here' or double quotes \"string here\"."
   ]
  },
  {
   "cell_type": "code",
   "execution_count": 3,
   "metadata": {
    "collapsed": false
   },
   "outputs": [
    {
     "data": {
      "text/plain": [
       "'Hello'"
      ]
     },
     "execution_count": 3,
     "metadata": {},
     "output_type": "execute_result"
    }
   ],
   "source": [
    "# This is a string\n",
    "\"Hello\""
   ]
  },
  {
   "cell_type": "code",
   "execution_count": 4,
   "metadata": {
    "collapsed": false
   },
   "outputs": [
    {
     "data": {
      "text/plain": [
       "'Hey, there!'"
      ]
     },
     "execution_count": 4,
     "metadata": {},
     "output_type": "execute_result"
    }
   ],
   "source": [
    "# This is also a string\n",
    "'Hey, there!'"
   ]
  },
  {
   "cell_type": "code",
   "execution_count": 5,
   "metadata": {
    "collapsed": true
   },
   "outputs": [],
   "source": [
    "# Assigning strings to variables\n",
    "my_string = \"Well, here I am!\""
   ]
  },
  {
   "cell_type": "markdown",
   "metadata": {},
   "source": [
    "## Printing Strings"
   ]
  },
  {
   "cell_type": "markdown",
   "metadata": {},
   "source": [
    "Recall that in the Numbers notebook, we decided that printing was preferred over using the REPL. This is becuase in all code you write, you will never use the REPL alone, as printing is necessary. We print strings by calling the print function."
   ]
  },
  {
   "cell_type": "code",
   "execution_count": 7,
   "metadata": {
    "collapsed": false
   },
   "outputs": [
    {
     "name": "stdout",
     "output_type": "stream",
     "text": [
      "Hey, there!\n",
      "Hey, there... again!\n"
     ]
    }
   ],
   "source": [
    "# Printing a string\n",
    "print(\"Hey, there!\")\n",
    "\n",
    "# Printing another string in the same cell, not possible with just the REPL!\n",
    "print(\"Hey, there... again!\")"
   ]
  },
  {
   "cell_type": "markdown",
   "metadata": {},
   "source": [
    "## Escape Sequences"
   ]
  },
  {
   "cell_type": "markdown",
   "metadata": {},
   "source": [
    "You may be wondering if it's possible to print more than one string (or sentence) with a single print function. This is entirely possible with the \"escape sequence\". An escape sequence is a character set that allows us to print characters that we normally couldn't. For example, how could you create new lines in your escape sequence? Let's try writing an email."
   ]
  },
  {
   "cell_type": "code",
   "execution_count": 13,
   "metadata": {
    "collapsed": false
   },
   "outputs": [
    {
     "name": "stdout",
     "output_type": "stream",
     "text": [
      "To whom it may concern,\n",
      "\n",
      "I'm currently in a Python Bootcamp right now and I'm starting to hone my skills.\n",
      "\n",
      "Best,\n",
      "Mohsin\n"
     ]
    }
   ],
   "source": [
    "print(\"To whom it may concern,\\n\\nI'm currently in a Python Bootcamp right now and I'm starting to hone my skills.\\n\\nBest,\\nMohsin\")"
   ]
  },
  {
   "cell_type": "markdown",
   "metadata": {},
   "source": [
    "We just printed a multi-line message with one print function. Here, we used the newline escape sequence, called with \"\\n\". The \\n tells the interpreter to skip a line (aka create a new line). This allowed us to make our text look like an email. We can use two \\n in a row, as we did above. This applies to all other escape sequences. There are a few others you should know, including the tab escape sequence, which namely allows you to use tabs in your print functions."
   ]
  },
  {
   "cell_type": "code",
   "execution_count": 16,
   "metadata": {
    "collapsed": false
   },
   "outputs": [
    {
     "name": "stdout",
     "output_type": "stream",
     "text": [
      "\t<-- Look at that space!\n"
     ]
    }
   ],
   "source": [
    "# Tab escape sequence\n",
    "print(\"\\t<-- Look at that space!\")"
   ]
  },
  {
   "cell_type": "markdown",
   "metadata": {},
   "source": [
    "There are a few more escape sequences. Note that there is no need to memorize them, as you can just look them up and they will become second nature over time as you need them. View them on Microsoft's Developer Network article: https://msdn.microsoft.com/en-us/library/h21280bw.aspx"
   ]
  },
  {
   "cell_type": "markdown",
   "metadata": {},
   "source": [
    "## String Functions and Methods"
   ]
  },
  {
   "cell_type": "markdown",
   "metadata": {},
   "source": [
    "You might be wondering, what's difference between a function and a method? What is a function? What is a method? Technically, all methods ARE functions. Methods are functions that belong to objects (remember, everything is essentially an object in Python). Functions in Python can either be defined by you, the programmer or are already defined by the Python developers, which are called \"Built-in Functions\". These are functions you can call impromptu and they'll just work. Here are some examples of built-in functions."
   ]
  },
  {
   "cell_type": "code",
   "execution_count": 18,
   "metadata": {
    "collapsed": false
   },
   "outputs": [
    {
     "name": "stdout",
     "output_type": "stream",
     "text": [
      "4.0\n"
     ]
    }
   ],
   "source": [
    "# The built-in float function takes in an integer and returns a float -> float(integer_here)\n",
    "my_integer = 4\n",
    "my_float = float(my_integer)\n",
    "print(my_float)"
   ]
  },
  {
   "cell_type": "markdown",
   "metadata": {},
   "source": [
    "What we saw above is an example of a Built-in FUNCTION. These come with Python. We can also define our own functions/methods. Below, we are defining a function that tells you if a number is even or odd."
   ]
  },
  {
   "cell_type": "code",
   "execution_count": 24,
   "metadata": {
    "collapsed": true
   },
   "outputs": [],
   "source": [
    "def even_or_odd(some_number):\n",
    "    if some_number % 2 == 0:\n",
    "        return True"
   ]
  },
  {
   "cell_type": "markdown",
   "metadata": {},
   "source": [
    "So, what kind of function is this? Well, because this function works under a built-in object type in python (the number types), this is called a function. It's not a built-in function, because we made it ourselves. In short, we can classify functions and methods into 4 categories:\n",
    "\n",
    "    1. Built-in functions (https://docs.python.org/3/library/functions.html)\n",
    "        > These are already with Python\n",
    "    2. Programmer created functions (even_or_odd which is above)\n",
    "        > These functions are associated with Python's built-in objects like numbers, strings, etc.\n",
    "    3. Programmer created methods (an example later)\n",
    "        > These methods (which are a tier below functions) are associated with programmer created objects. We haven't created an object yet but when we do, we will defined functions that work with our custom objects. Those functions are known as methods."
   ]
  },
  {
   "cell_type": "markdown",
   "metadata": {},
   "source": [
    "### So what functions and methods to Strings have?"
   ]
  },
  {
   "cell_type": "markdown",
   "metadata": {},
   "source": [
    "Back to the point: strings have a few functions associated with them also. The one you should know is the len() function. It returns the length of a string."
   ]
  },
  {
   "cell_type": "markdown",
   "metadata": {},
   "source": [
    "### len() function"
   ]
  },
  {
   "cell_type": "code",
   "execution_count": 29,
   "metadata": {
    "collapsed": false
   },
   "outputs": [
    {
     "data": {
      "text/plain": [
       "5"
      ]
     },
     "execution_count": 29,
     "metadata": {},
     "output_type": "execute_result"
    }
   ],
   "source": [
    "# The len function\n",
    "len(\"hello\")"
   ]
  },
  {
   "cell_type": "code",
   "execution_count": 30,
   "metadata": {
    "collapsed": false
   },
   "outputs": [
    {
     "name": "stdout",
     "output_type": "stream",
     "text": [
      "5\n"
     ]
    }
   ],
   "source": [
    "# We can print the result of the len() function\n",
    "print(len(\"Hello\"))"
   ]
  },
  {
   "cell_type": "code",
   "execution_count": 32,
   "metadata": {
    "collapsed": false
   },
   "outputs": [
    {
     "name": "stdout",
     "output_type": "stream",
     "text": [
      "5\n"
     ]
    }
   ],
   "source": [
    "# Let's store it in variable form\n",
    "length_of_some_string = len(\"Hello\")\n",
    "# now print whatever len(\"Hello\") returns\n",
    "print(length_of_some_string)"
   ]
  },
  {
   "cell_type": "markdown",
   "metadata": {},
   "source": [
    "### String Methods"
   ]
  },
  {
   "cell_type": "markdown",
   "metadata": {},
   "source": [
    "String methods are those functions that are associated with a specific string *instance*, where are as string functions are concerned with strings as a whole. Note: the word instance refers to the objectifying of **anything** in Python or another language that has objects in it."
   ]
  },
  {
   "cell_type": "code",
   "execution_count": 33,
   "metadata": {
    "collapsed": true
   },
   "outputs": [],
   "source": [
    "# Creating a string instance is just the same thing as assigning a variable a value\n",
    "c = \"Hello\""
   ]
  },
  {
   "cell_type": "markdown",
   "metadata": {},
   "source": [
    "The \"c\" variable is now a string instance of the string literal \"Hello\". The word \"string literal\" literally means a word or words inside quotes, so the actual string itself."
   ]
  },
  {
   "cell_type": "markdown",
   "metadata": {},
   "source": [
    "Now that we have a string object/instance, let's call methods on it specifically. Methods are called as follows:\n",
    "\n",
    "    object.method(arguments)\n",
    "    \n",
    "The string has a few methods. Methods that we'll look at will be the upper(), lower(), split(), and format().\n"
   ]
  },
  {
   "cell_type": "code",
   "execution_count": 34,
   "metadata": {
    "collapsed": true
   },
   "outputs": [],
   "source": [
    "my_str = \"python is great\""
   ]
  },
  {
   "cell_type": "code",
   "execution_count": 35,
   "metadata": {
    "collapsed": false
   },
   "outputs": [
    {
     "name": "stdout",
     "output_type": "stream",
     "text": [
      "PYTHON IS GREAT\n"
     ]
    }
   ],
   "source": [
    "# uppercase a string with upper() method\n",
    "print(my_str.upper())"
   ]
  },
  {
   "cell_type": "code",
   "execution_count": 40,
   "metadata": {
    "collapsed": false
   },
   "outputs": [
    {
     "name": "stdout",
     "output_type": "stream",
     "text": [
      "python is great\n"
     ]
    }
   ],
   "source": [
    "# lowercase string with lower() method\n",
    "print(my_str.lower())"
   ]
  },
  {
   "cell_type": "markdown",
   "metadata": {},
   "source": [
    "Below, we use the my_str.split() method on my_str. The split method takes each contigous sequence, or word, instead of an overall string and puts each words inside of a data structure called a list. A list is a mutable, indexable sequence of objects in Python. We'll talk about it more later, but, for now, imagine it just holds objects (basically anything) together in a bundle."
   ]
  },
  {
   "cell_type": "code",
   "execution_count": 41,
   "metadata": {
    "collapsed": false
   },
   "outputs": [
    {
     "name": "stdout",
     "output_type": "stream",
     "text": [
      "['python', 'is', 'great']\n"
     ]
    }
   ],
   "source": [
    "# split a string\n",
    "lst = my_str.split()\n",
    "print(lst)"
   ]
  },
  {
   "cell_type": "markdown",
   "metadata": {},
   "source": [
    "Watch out for the format() function in the printing section at the bottom."
   ]
  },
  {
   "cell_type": "markdown",
   "metadata": {},
   "source": [
    "## Indexing and Slicing Strings"
   ]
  },
  {
   "cell_type": "markdown",
   "metadata": {},
   "source": [
    "Strings, as we defined before, are indexable. Effectively, this means you can access the individual characters that make up a string. How do we do this? We begin by using the bracket notation and specify an index between 0 to the length of the string - 1. Let n be the length of the string, then we can access a string as such:\n",
    "\n",
    "    my_string_here[0]\n",
    "    my_string_here[1]\n",
    "    .\n",
    "    .\n",
    "    .\n",
    "    my_string_here[n-1]\n",
    "    \n",
    "Let's try declaring some strings and finding the start, end, middle, etc."
   ]
  },
  {
   "cell_type": "code",
   "execution_count": 44,
   "metadata": {
    "collapsed": true
   },
   "outputs": [],
   "source": [
    "# Declare a string\n",
    "my_str = \"crabs\""
   ]
  },
  {
   "cell_type": "code",
   "execution_count": 45,
   "metadata": {
    "collapsed": false
   },
   "outputs": [
    {
     "name": "stdout",
     "output_type": "stream",
     "text": [
      "c\n"
     ]
    }
   ],
   "source": [
    "# Find the beginning of a string is simply index 0\n",
    "print(my_str[0])"
   ]
  },
  {
   "cell_type": "markdown",
   "metadata": {},
   "source": [
    "It printed \"c\", we expected this, becuase 0 is like the number 1 in our everyday lives. Computer systems start with 0. How would we get the last character of a string? We could just count the words in our string and subtract 1.\n",
    "\n",
    "Thought process: the length of \"crabs\" is 5. We know that the last character is at 5-1 = 4 because we start with the number 0 in indexing. So, theoretically, my_str[4] should return the last character of \"crabs\", which woiuld be 's'."
   ]
  },
  {
   "cell_type": "code",
   "execution_count": 46,
   "metadata": {
    "collapsed": false
   },
   "outputs": [
    {
     "name": "stdout",
     "output_type": "stream",
     "text": [
      "s\n"
     ]
    }
   ],
   "source": [
    "print(my_str[4])"
   ]
  },
  {
   "cell_type": "markdown",
   "metadata": {},
   "source": [
    "We did it! But, imagine you were working with user inputted strings that you did not know of. How would you get the length of a string whose actual contents you don't know? Simple! Python *indexing works backwards*, too! You can specify the my_str[-1] index to get the string before the first (0th), which would be the last. It works in circularly."
   ]
  },
  {
   "cell_type": "code",
   "execution_count": 47,
   "metadata": {
    "collapsed": false
   },
   "outputs": [
    {
     "name": "stdout",
     "output_type": "stream",
     "text": [
      "s\n"
     ]
    }
   ],
   "source": [
    "print(my_str[-1])"
   ]
  },
  {
   "cell_type": "code",
   "execution_count": 48,
   "metadata": {
    "collapsed": false
   },
   "outputs": [
    {
     "name": "stdout",
     "output_type": "stream",
     "text": [
      "c\n",
      "r\n",
      "a\n",
      "b\n",
      "s\n"
     ]
    }
   ],
   "source": [
    "# For fun, let's print each character\n",
    "print(my_str[0])\n",
    "print(my_str[1])\n",
    "print(my_str[2])\n",
    "print(my_str[3])\n",
    "print(my_str[4])"
   ]
  },
  {
   "cell_type": "markdown",
   "metadata": {},
   "source": [
    "What if we wanted more than just one character? How about the first character all the way to the second to last character? This process is called **slicing**. We can slice strings to get ranges of their characters. Let's get the first to second last.\n",
    "\n",
    "In general, slicing works like so:\n",
    "\n",
    "    my_str[start:end]\n",
    "\n",
    "where \"start\" is inclusive, and \"end\" is exclusive.\n",
    "\n",
    "Thought process: to get the first to second last, where the \"end\" of a slicing is not included, would simply mean let start be 0, and end be the length of the string minus 1 (becuase it's the character we **don't** want."
   ]
  },
  {
   "cell_type": "code",
   "execution_count": 49,
   "metadata": {
    "collapsed": false
   },
   "outputs": [
    {
     "data": {
      "text/plain": [
       "'crab'"
      ]
     },
     "execution_count": 49,
     "metadata": {},
     "output_type": "execute_result"
    }
   ],
   "source": [
    "# Get the first to second to last character.\n",
    "my_str[0:len(my_str)-1]"
   ]
  },
  {
   "cell_type": "markdown",
   "metadata": {},
   "source": [
    "What just happened? Remember that we said that slicing works like so:\n",
    "\n",
    "    my_str[start(inclusive):end(exclusive)]\n",
    "\n",
    "Thus, if we want the very first string, we let start be 0. For the end, we put in the index of the character we don't want included up until. Meaning that if we don't want the last character, we put the indice of the character as end. That indice that represents the last character is n-1, where n represents length of the string. We reduce to this formula:\n",
    "\n",
    "    my_str[0:lengthofstring - 1]\n",
    "    \n",
    "How do we get the length? Recall: the len() built-in function. We call the function to get the length, and subtract by 1 to get\n",
    "\n",
    "    my_str[0:len(my_str)-1]\n",
    "    \n",
    "which yields a satisfying \"crab\" instead of \"crabs\"."
   ]
  },
  {
   "cell_type": "markdown",
   "metadata": {},
   "source": [
    "There's a shortcut for getting from any start to the definite end of a string (ex: get all characters starting from 3rd to the very end, get all characters from the 2nd character to then very end). Simply leave out the end argument and fill in the start with an indice you want to start and include.\n",
    "\n",
    "    my_str[start:]"
   ]
  },
  {
   "cell_type": "code",
   "execution_count": 51,
   "metadata": {
    "collapsed": false
   },
   "outputs": [
    {
     "name": "stdout",
     "output_type": "stream",
     "text": [
      "abs\n"
     ]
    }
   ],
   "source": [
    "# go from the 2nd character to the end\n",
    "print(my_str[2:])"
   ]
  },
  {
   "cell_type": "markdown",
   "metadata": {},
   "source": [
    "Who thought you'd get abs from this coding exercise?"
   ]
  },
  {
   "cell_type": "markdown",
   "metadata": {},
   "source": [
    "Lastly in slicing, we also have the skip argument. Here's the fully string indexing format:\n",
    "\n",
    "    my_str[start:end:skip]\n",
    "    \n",
    "How would you get every other character, going to the end? Well, we would start at 0 to get the first, we would let end be empty because we want to go all the way anyways, and let skip be 2 to skip every other character."
   ]
  },
  {
   "cell_type": "code",
   "execution_count": 53,
   "metadata": {
    "collapsed": false
   },
   "outputs": [
    {
     "name": "stdout",
     "output_type": "stream",
     "text": [
      "cas\n"
     ]
    }
   ],
   "source": [
    "#Get every other character of my_str\n",
    "print(my_str[0::2])"
   ]
  },
  {
   "cell_type": "markdown",
   "metadata": {},
   "source": [
    "How would we reverse a string? We know that the start would be the end, the end would be the start. By default, our skip moves forward by \"1\". We found out earlier could change this to \"-1\" to go backwards. If we can automatically go backwards, do we need a start or and end if the indexing will stop itself? No! Consider:\n",
    "\n",
    "    my_str[::-1]\n",
    "    \n",
    "to reverse a string."
   ]
  },
  {
   "cell_type": "code",
   "execution_count": 54,
   "metadata": {
    "collapsed": false
   },
   "outputs": [
    {
     "data": {
      "text/plain": [
       "'sbarc'"
      ]
     },
     "execution_count": 54,
     "metadata": {},
     "output_type": "execute_result"
    }
   ],
   "source": [
    "# Reverse a string\n",
    "my_str[::-1]"
   ]
  },
  {
   "cell_type": "markdown",
   "metadata": {},
   "source": [
    "## String Properties"
   ]
  },
  {
   "cell_type": "markdown",
   "metadata": {},
   "source": [
    "What properties to strings have? Well, we said earlier strings are indexable. We already talked about that. We also said that strings were \"immutable\". To be immutable means to not be able to be changed. A string literal within a variable cannot be altered by indexing. Take a look:"
   ]
  },
  {
   "cell_type": "code",
   "execution_count": 56,
   "metadata": {
    "collapsed": false
   },
   "outputs": [
    {
     "ename": "TypeError",
     "evalue": "'str' object does not support item assignment",
     "output_type": "error",
     "traceback": [
      "\u001b[1;31m---------------------------------------------------------------------------\u001b[0m",
      "\u001b[1;31mTypeError\u001b[0m                                 Traceback (most recent call last)",
      "\u001b[1;32m<ipython-input-56-6b0a5b993913>\u001b[0m in \u001b[0;36m<module>\u001b[1;34m()\u001b[0m\n\u001b[1;32m----> 1\u001b[1;33m \u001b[0mmy_str\u001b[0m\u001b[1;33m[\u001b[0m\u001b[1;36m2\u001b[0m\u001b[1;33m]\u001b[0m \u001b[1;33m=\u001b[0m \u001b[1;34m\"e\"\u001b[0m\u001b[1;33m\u001b[0m\u001b[0m\n\u001b[0m",
      "\u001b[1;31mTypeError\u001b[0m: 'str' object does not support item assignment"
     ]
    }
   ],
   "source": [
    "my_str[2] = \"e\""
   ]
  },
  {
   "cell_type": "markdown",
   "metadata": {},
   "source": [
    "Note how the interpreter returned: TypeError: 'str' object does not support item assignment\n",
    "\n",
    "String's cannot be physically changed this way. You cannot pick an indice and change it's character. Look, it doesn't work:"
   ]
  },
  {
   "cell_type": "code",
   "execution_count": 58,
   "metadata": {
    "collapsed": false
   },
   "outputs": [
    {
     "ename": "TypeError",
     "evalue": "'str' object does not support item assignment",
     "output_type": "error",
     "traceback": [
      "\u001b[1;31m---------------------------------------------------------------------------\u001b[0m",
      "\u001b[1;31mTypeError\u001b[0m                                 Traceback (most recent call last)",
      "\u001b[1;32m<ipython-input-58-5def23c6fccf>\u001b[0m in \u001b[0;36m<module>\u001b[1;34m()\u001b[0m\n\u001b[1;32m----> 1\u001b[1;33m \u001b[0mmy_str\u001b[0m\u001b[1;33m[\u001b[0m\u001b[1;36m1\u001b[0m\u001b[1;33m]\u001b[0m \u001b[1;33m=\u001b[0m \u001b[1;34m\"ee\"\u001b[0m\u001b[1;33m\u001b[0m\u001b[0m\n\u001b[0m",
      "\u001b[1;31mTypeError\u001b[0m: 'str' object does not support item assignment"
     ]
    }
   ],
   "source": [
    "my_str[1] = \"ee\""
   ]
  },
  {
   "cell_type": "markdown",
   "metadata": {},
   "source": [
    "However, we can do two things to strings: **concatenation** and **physical reassignment**\n",
    "That's right, while you can't single handedly change a character of your string instance, you can concatenate characters to it or reassign it to whatever string you want. The reason this is allowed is because strings can be physically reassigned into new sequences (words), but not changed on the spot. "
   ]
  },
  {
   "cell_type": "code",
   "execution_count": 60,
   "metadata": {
    "collapsed": false
   },
   "outputs": [],
   "source": [
    "# Reassigning a string to whatever we want\n",
    "my_str = \"black labs\""
   ]
  },
  {
   "cell_type": "code",
   "execution_count": 61,
   "metadata": {
    "collapsed": true
   },
   "outputs": [],
   "source": [
    "# Reassign again\n",
    "my_str = \"parrots\""
   ]
  },
  {
   "cell_type": "markdown",
   "metadata": {},
   "source": [
    "We can also concatenate, which means we can add append (add to the end) characters."
   ]
  },
  {
   "cell_type": "code",
   "execution_count": 63,
   "metadata": {
    "collapsed": false
   },
   "outputs": [
    {
     "name": "stdout",
     "output_type": "stream",
     "text": [
      "parrots that can talk that can talk\n"
     ]
    }
   ],
   "source": [
    "# adding to our parrots string\n",
    "my_str = my_str + \" that can talk\"\n",
    "print(my_str)"
   ]
  },
  {
   "cell_type": "markdown",
   "metadata": {},
   "source": [
    "## More on Printing"
   ]
  },
  {
   "cell_type": "markdown",
   "metadata": {},
   "source": [
    "When we call a print function, you only notice that the arguments are a single object type. Meaning, we haven't somehow print two seperate variables inside of a print function. However, it is possible."
   ]
  },
  {
   "cell_type": "code",
   "execution_count": 70,
   "metadata": {
    "collapsed": true
   },
   "outputs": [],
   "source": [
    "x = 5"
   ]
  },
  {
   "cell_type": "code",
   "execution_count": 71,
   "metadata": {
    "collapsed": false
   },
   "outputs": [
    {
     "name": "stdout",
     "output_type": "stream",
     "text": [
      "I have 5 cats\n"
     ]
    }
   ],
   "source": [
    "print(\"I have %d cats\" % x)"
   ]
  },
  {
   "cell_type": "markdown",
   "metadata": {},
   "source": [
    "This is called using the the \"str %\" construct. This construct allows us to substitute the %letter with any variable want. For integers, it's %d, %f for float, and %s for string."
   ]
  },
  {
   "cell_type": "code",
   "execution_count": 73,
   "metadata": {
    "collapsed": false
   },
   "outputs": [
    {
     "name": "stdout",
     "output_type": "stream",
     "text": [
      "hello, it's me\n"
     ]
    }
   ],
   "source": [
    "my_str = \"hello\"\n",
    "print(\"%s, it's me\" % my_str)"
   ]
  },
  {
   "cell_type": "code",
   "execution_count": 76,
   "metadata": {
    "collapsed": false
   },
   "outputs": [
    {
     "name": "stdout",
     "output_type": "stream",
     "text": [
      "I think pi is around 3.140000\n"
     ]
    }
   ],
   "source": [
    "pi_val = 3.140000\n",
    "print(\"I think pi is around %f\" % pi_val)"
   ]
  },
  {
   "cell_type": "code",
   "execution_count": 85,
   "metadata": {
    "collapsed": false
   },
   "outputs": [
    {
     "name": "stdout",
     "output_type": "stream",
     "text": [
      "hello it's me, I was wondering how you've been these past 5 months\n"
     ]
    }
   ],
   "source": [
    "# You can add multiple arguments\n",
    "x = 5\n",
    "y = \"hello\"\n",
    "print(\"%s it's me, I was wondering how you've been these past %d months\" % (y, x))"
   ]
  },
  {
   "cell_type": "markdown",
   "metadata": {},
   "source": [
    "You should be familiar with this syntax because many programmers still use it. However, in the modern age, many people have started using the format() method. It does the same thing, but in a more organized fashion. The syntax is the following:\n",
    "    \n",
    "    my_str.format(var1, var2)\n",
    "    \n",
    "*Below is an example where you want to use a pre-defined variable.*"
   ]
  },
  {
   "cell_type": "code",
   "execution_count": 1,
   "metadata": {
    "collapsed": false
   },
   "outputs": [
    {
     "name": "stdout",
     "output_type": "stream",
     "text": [
      "Hey there you have 5 apples\n"
     ]
    }
   ],
   "source": [
    "x =5\n",
    "# Format an integer into a string\n",
    "print(\"Hey there you have {} apples\".format(x))"
   ]
  },
  {
   "cell_type": "markdown",
   "metadata": {},
   "source": [
    "*Below is an example where you define the variables at run-time of the print function*\n",
    "\n",
    "The format is similar:\n",
    "\n",
    "    my_str.format(var1=somevalue, var2=....)"
   ]
  },
  {
   "cell_type": "code",
   "execution_count": 2,
   "metadata": {
    "collapsed": false
   },
   "outputs": [
    {
     "name": "stdout",
     "output_type": "stream",
     "text": [
      "I've got 99 problems, and programming in python ain't one\n"
     ]
    }
   ],
   "source": [
    "print(\"I've got {x} problems, and programming in python ain't {my_str}\".format(x=99, my_str=\"one\"))"
   ]
  }
 ],
 "metadata": {
  "kernelspec": {
   "display_name": "Python 3",
   "language": "python",
   "name": "python3"
  },
  "language_info": {
   "codemirror_mode": {
    "name": "ipython",
    "version": 3
   },
   "file_extension": ".py",
   "mimetype": "text/x-python",
   "name": "python",
   "nbconvert_exporter": "python",
   "pygments_lexer": "ipython3",
   "version": "3.5.1"
  }
 },
 "nbformat": 4,
 "nbformat_minor": 0
}
