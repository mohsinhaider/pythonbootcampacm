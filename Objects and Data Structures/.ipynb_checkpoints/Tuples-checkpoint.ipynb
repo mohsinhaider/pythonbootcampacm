{
 "cells": [
  {
   "cell_type": "markdown",
   "metadata": {},
   "source": [
    "## Tuples"
   ]
  },
  {
   "cell_type": "markdown",
   "metadata": {
    "collapsed": true
   },
   "source": [
    "A tuple is an immutable, indexable, and heterogenous sequence of objects. Unlike a list, the immutability of tuple bars it from being able to change its objects (in place). The semantics of the tuple allow us to use it as a data structure that holds constant values. In this lecture, we will cover:\n",
    "\n",
    "    1. Initializing a Tuple\n",
    "    2. Accessing, Slicing, and Modifying a Tuple\n",
    "    3. Tuple Functions and Methods\n",
    "\n",
    "Let us begin by initializing a tuple. "
   ]
  },
  {
   "cell_type": "markdown",
   "metadata": {},
   "source": [
    "## Initializing a Tuple"
   ]
  },
  {
   "cell_type": "markdown",
   "metadata": {},
   "source": [
    "Unlike a list, a tuples objects is physically bounded by parentheses. Tuples can be heterogenous, as lists are too."
   ]
  },
  {
   "cell_type": "code",
   "execution_count": 7,
   "metadata": {
    "collapsed": true
   },
   "outputs": [],
   "source": [
    "# Initializing a Tuple\n",
    "day_tuple = (\"MONDAY\", \"TUESDAY\", \"WEDNESDAY\", \"THURSDAY\", \"FRIDAY\")"
   ]
  },
  {
   "cell_type": "markdown",
   "metadata": {},
   "source": [
    "Here is an example of a heterogenous tuple. Recall that are definable types in Python are objects, and thus even data structures like lists and dictionaries can be the items of a tuple. On the flipside, tuples **can act as a key and a value** in a dictionary! This is because all keys in a dictionary must be hashable, and tuples are. Tuples can also be objects in lists."
   ]
  },
  {
   "cell_type": "code",
   "execution_count": 15,
   "metadata": {
    "collapsed": false
   },
   "outputs": [],
   "source": [
    "# Initializing a heterogenous Tuple\n",
    "my_tuple = (\"red\", 40, 9.0, [1, 4, 5], \"hey\", {\"Micah\":9})"
   ]
  },
  {
   "cell_type": "markdown",
   "metadata": {},
   "source": [
    "## Tuple Access, Slicing, and Modification"
   ]
  },
  {
   "cell_type": "markdown",
   "metadata": {},
   "source": [
    "You can access any item in a tuple with bracket notation."
   ]
  },
  {
   "cell_type": "code",
   "execution_count": 19,
   "metadata": {
    "collapsed": false
   },
   "outputs": [
    {
     "name": "stdout",
     "output_type": "stream",
     "text": [
      "THURSDAY\n"
     ]
    }
   ],
   "source": [
    "# Initializing a Tuple\n",
    "day_tuple = (\"MONDAY\", \"TUESDAY\", \"WEDNESDAY\", \"THURSDAY\", \"FRIDAY\")\n",
    "# Access Thursday\n",
    "print(day_tuple[3])"
   ]
  },
  {
   "cell_type": "markdown",
   "metadata": {},
   "source": [
    "Because tuples and lists are sequences, we cannot search by some \"key\". Only mappings can perform actions like these **naturally** (we have a way to do this, in the methods section). A tuple semantically acts the same as a list, and as you are already familiar with a list, can perform slicing."
   ]
  },
  {
   "cell_type": "code",
   "execution_count": 32,
   "metadata": {
    "collapsed": false
   },
   "outputs": [
    {
     "name": "stdout",
     "output_type": "stream",
     "text": [
      "('MONDAY', 'SUNDAY', 'WEDNESDAY', 'THURSDAY', 'FRIDAY')\n"
     ]
    }
   ],
   "source": [
    "# Getting all of the items in a tuple using slicing\n",
    "print(day_tuple[0:])"
   ]
  },
  {
   "cell_type": "markdown",
   "metadata": {},
   "source": [
    "All structures that can use slicing (sequences... i.e. strings, tuples, lists) have skips. Recall the general notation for slicing.\n",
    "\n",
    "    my_sequence[start:end:skip]\n",
    "    \n",
    "where \"start\" is inclusive, end is exclusive, and skip is the sequence traversal factor."
   ]
  },
  {
   "cell_type": "code",
   "execution_count": 25,
   "metadata": {
    "collapsed": false
   },
   "outputs": [
    {
     "name": "stdout",
     "output_type": "stream",
     "text": [
      "('MONDAY', 'WEDNESDAY', 'FRIDAY')\n"
     ]
    }
   ],
   "source": [
    "# Getting every other object in a Tuple\n",
    "print(day_tuple[::2])"
   ]
  },
  {
   "cell_type": "code",
   "execution_count": 28,
   "metadata": {
    "collapsed": false
   },
   "outputs": [
    {
     "name": "stdout",
     "output_type": "stream",
     "text": [
      "('FRIDAY', 'THURSDAY', 'WEDNESDAY', 'TUESDAY', 'MONDAY')\n"
     ]
    }
   ],
   "source": [
    "# Getting the tuple objects backward\n",
    "print(day_tuple[::-1])"
   ]
  },
  {
   "cell_type": "markdown",
   "metadata": {},
   "source": [
    "Now that we've seen accessing by normal bracket notation and slicing, let's discuss modification. Tuples are immutable sequences, meaning that they cannot be changed in place. What does this mean exactly? Like strings, tuples can physically change what they are referring to but they cannot change the obejcts that are in them in place. "
   ]
  },
  {
   "cell_type": "code",
   "execution_count": 29,
   "metadata": {
    "collapsed": false
   },
   "outputs": [
    {
     "ename": "TypeError",
     "evalue": "'tuple' object does not support item assignment",
     "output_type": "error",
     "traceback": [
      "\u001b[1;31m---------------------------------------------------------------------------\u001b[0m",
      "\u001b[1;31mTypeError\u001b[0m                                 Traceback (most recent call last)",
      "\u001b[1;32m<ipython-input-29-4d8f727f63f4>\u001b[0m in \u001b[0;36m<module>\u001b[1;34m()\u001b[0m\n\u001b[0;32m      2\u001b[0m \u001b[0mday_tuple\u001b[0m \u001b[1;33m=\u001b[0m \u001b[1;33m(\u001b[0m\u001b[1;34m\"MONDAY\"\u001b[0m\u001b[1;33m,\u001b[0m \u001b[1;34m\"TUESDAY\"\u001b[0m\u001b[1;33m,\u001b[0m \u001b[1;34m\"WEDNESDAY\"\u001b[0m\u001b[1;33m,\u001b[0m \u001b[1;34m\"THURSDAY\"\u001b[0m\u001b[1;33m,\u001b[0m \u001b[1;34m\"FRIDAY\"\u001b[0m\u001b[1;33m)\u001b[0m\u001b[1;33m\u001b[0m\u001b[0m\n\u001b[0;32m      3\u001b[0m \u001b[1;31m# Attempt to change an item via access bracket notation\u001b[0m\u001b[1;33m\u001b[0m\u001b[1;33m\u001b[0m\u001b[0m\n\u001b[1;32m----> 4\u001b[1;33m \u001b[0mday_tuple\u001b[0m\u001b[1;33m[\u001b[0m\u001b[1;36m1\u001b[0m\u001b[1;33m]\u001b[0m \u001b[1;33m=\u001b[0m \u001b[1;34m\"SUNDAY\"\u001b[0m\u001b[1;33m\u001b[0m\u001b[0m\n\u001b[0m",
      "\u001b[1;31mTypeError\u001b[0m: 'tuple' object does not support item assignment"
     ]
    }
   ],
   "source": [
    "# Intializing a Tuple\n",
    "day_tuple = (\"MONDAY\", \"TUESDAY\", \"WEDNESDAY\", \"THURSDAY\", \"FRIDAY\")\n",
    "# Attempt to change an item via access bracket notation\n",
    "day_tuple[1] = \"SUNDAY\""
   ]
  },
  {
   "cell_type": "markdown",
   "metadata": {},
   "source": [
    "While immutability stops us from modifying the object we are currently pointing to (the tuple literal), we can simply just refer to another tuple object."
   ]
  },
  {
   "cell_type": "code",
   "execution_count": 31,
   "metadata": {
    "collapsed": false
   },
   "outputs": [
    {
     "name": "stdout",
     "output_type": "stream",
     "text": [
      "('MONDAY', 'SUNDAY', 'WEDNESDAY', 'THURSDAY', 'FRIDAY')\n"
     ]
    }
   ],
   "source": [
    "# Intializing a Tuple\n",
    "day_tuple = (\"MONDAY\", \"TUESDAY\", \"WEDNESDAY\", \"THURSDAY\", \"FRIDAY\")\n",
    "# Changing the Tuple object instead of modifying the current\n",
    "day_tuple = (\"MONDAY\", \"SUNDAY\", \"WEDNESDAY\", \"THURSDAY\", \"FRIDAY\")\n",
    "# Verify that Tuesday is now Sunday\n",
    "print(day_tuple)"
   ]
  },
  {
   "cell_type": "markdown",
   "metadata": {},
   "source": [
    "No form of modification on an already existing tuple object will work, whether is appending, prepending, etc. Only reassignment."
   ]
  },
  {
   "cell_type": "markdown",
   "metadata": {},
   "source": [
    "## Tuple Functions and Methods"
   ]
  },
  {
   "cell_type": "markdown",
   "metadata": {},
   "source": [
    "There are a few functions and methods associated with tuples. We explore them below."
   ]
  },
  {
   "cell_type": "markdown",
   "metadata": {},
   "source": [
    "### Tuple Functions"
   ]
  },
  {
   "cell_type": "markdown",
   "metadata": {},
   "source": [
    "As always, we know that the len() function works on tuples."
   ]
  },
  {
   "cell_type": "code",
   "execution_count": 33,
   "metadata": {
    "collapsed": false
   },
   "outputs": [
    {
     "data": {
      "text/plain": [
       "5"
      ]
     },
     "execution_count": 33,
     "metadata": {},
     "output_type": "execute_result"
    }
   ],
   "source": [
    "len(day_tuple)"
   ]
  },
  {
   "cell_type": "markdown",
   "metadata": {},
   "source": [
    "### Tuple Methods"
   ]
  },
  {
   "cell_type": "markdown",
   "metadata": {},
   "source": [
    "The two primary methods we should be aware of that tuples posses are count() and index()."
   ]
  },
  {
   "cell_type": "markdown",
   "metadata": {},
   "source": [
    "Calling the *count(object)* method on a tuple returns the number of occurences of the explicit object in the tuple."
   ]
  },
  {
   "cell_type": "code",
   "execution_count": 39,
   "metadata": {
    "collapsed": false
   },
   "outputs": [
    {
     "data": {
      "text/plain": [
       "2"
      ]
     },
     "execution_count": 39,
     "metadata": {},
     "output_type": "execute_result"
    }
   ],
   "source": [
    "# Initializing the Tuple\n",
    "day_tuple = (\"MONDAY\", \"TUESDAY\", \"WEDNESDAY\", \"THURSDAY\", \"FRIDAY\")\n",
    "# Counting how many Mondays there are\n",
    "day_tuple.count(\"MONDAY\")\n",
    "# Reassigning the object to have more Mondays\n",
    "day_tuple = (\"MONDAY\", \"WEDNESDAY\", \"MONDAY\", \"THURSDAY\", \"FRIDAY\")\n",
    "# Recounting the number of Mondays\n",
    "day_tuple.count(\"MONDAY\")"
   ]
  },
  {
   "cell_type": "markdown",
   "metadata": {},
   "source": [
    "The *index(object)* methods finds the **first occurence** of the explicit object, and returns the indice."
   ]
  },
  {
   "cell_type": "code",
   "execution_count": 41,
   "metadata": {
    "collapsed": false
   },
   "outputs": [
    {
     "data": {
      "text/plain": [
       "0"
      ]
     },
     "execution_count": 41,
     "metadata": {},
     "output_type": "execute_result"
    }
   ],
   "source": [
    "# Initializing a Tuple (with ony one WEDNESDAY string literal)\n",
    "day_tuple = (\"MONDAY\", \"TUESDAY\", \"WEDNESDAY\", \"THURSDAY\", \"FRIDAY\")\n",
    "# Return the index of Wednesday\n",
    "day_tuple.index(\"WEDNESDAY\")\n",
    "# Reassign the tuple to another object\n",
    "day_tuple = (\"WEDNESDAY\", \"TUESDAY\", \"WEDNESDAY\", \"FRIDAY\", \"WEDNESAY\")\n",
    "# What index will it return now that are 3 \"WEDNESDAY\" string literals\n",
    "day_tuple.index(\"WEDNESDAY\")"
   ]
  }
 ],
 "metadata": {
  "kernelspec": {
   "display_name": "Python 3",
   "language": "python",
   "name": "python3"
  },
  "language_info": {
   "codemirror_mode": {
    "name": "ipython",
    "version": 3
   },
   "file_extension": ".py",
   "mimetype": "text/x-python",
   "name": "python",
   "nbconvert_exporter": "python",
   "pygments_lexer": "ipython3",
   "version": "3.5.1"
  }
 },
 "nbformat": 4,
 "nbformat_minor": 0
}
