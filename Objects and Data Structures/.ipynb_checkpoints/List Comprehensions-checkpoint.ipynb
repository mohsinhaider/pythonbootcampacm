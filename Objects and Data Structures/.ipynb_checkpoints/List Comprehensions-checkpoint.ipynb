{
 "cells": [
  {
   "cell_type": "markdown",
   "metadata": {},
   "source": [
    "# List Comprehensions and Generators"
   ]
  },
  {
   "cell_type": "markdown",
   "metadata": {},
   "source": [
    "Python comes with more than just a programming language, it also includes a way to write elegant code. Pythonic code is syntax that wishes to emulate natural constructs of programming."
   ]
  },
  {
   "cell_type": "markdown",
   "metadata": {},
   "source": [
    "Let's look at the basic syntax for a list comprehension:\n",
    "\n",
    "    some_list = [item for item in domain if .... ]\n",
    "    \n",
    "We store the item that exists in the domain into the list, as long as it passes any conditions in the if statement."
   ]
  },
  {
   "cell_type": "markdown",
   "metadata": {},
   "source": [
    "**Example 1** Extract the even numbers from a given range."
   ]
  },
  {
   "cell_type": "code",
   "execution_count": 4,
   "metadata": {
    "collapsed": false
   },
   "outputs": [
    {
     "name": "stdout",
     "output_type": "stream",
     "text": [
      "[0, 2, 4, 6, 8, 10, 12, 14, 16, 18, 20]\n"
     ]
    }
   ],
   "source": [
    "# Store even numbers from 0 to 20\n",
    "even_lst = [num for num in range(21) if num % 2 == 0]\n",
    "print(even_lst)"
   ]
  },
  {
   "cell_type": "markdown",
   "metadata": {},
   "source": [
    "**Example 2** Convert the reserved stock units (RSUs) an employee has in a company to the current cash value."
   ]
  },
  {
   "cell_type": "code",
   "execution_count": 6,
   "metadata": {
    "collapsed": false
   },
   "outputs": [
    {
     "name": "stdout",
     "output_type": "stream",
     "text": [
      "[400, 280, 260]\n"
     ]
    }
   ],
   "source": [
    "cash_value = 20\n",
    "rsu_dict = {\"Max\":20, \"Willie\":13, \"Joanna\":14}\n",
    "\n",
    "lst = [rsu_dict[name]*cash_value for name in rsu_dict]\n",
    "print(lst)"
   ]
  },
  {
   "cell_type": "code",
   "execution_count": 9,
   "metadata": {
    "collapsed": false
   },
   "outputs": [
    {
     "name": "stdout",
     "output_type": "stream",
     "text": [
      "[260, 300, 380]\n"
     ]
    }
   ],
   "source": [
    "my_dict = {\"Ross\":19, \"Bernie\":13, \"Micah\":15}\n",
    "cash_value = 20\n",
    "\n",
    "# [19*20, 13*20, 15*20]\n",
    "\n",
    "cash_lst = [my_dict[key]*20 for key in my_dict]\n",
    "print(cash_lst)"
   ]
  },
  {
   "cell_type": "markdown",
   "metadata": {},
   "source": [
    "Let's take a look at some values and see how we can produce certain outputs."
   ]
  },
  {
   "cell_type": "code",
   "execution_count": 10,
   "metadata": {
    "collapsed": true
   },
   "outputs": [],
   "source": [
    "rows = 'ABC'\n",
    "cols = '123'\n",
    "vowels = ('a', 'e', 'i', 'o', 'u')\n",
    "sentence = 'cogito ergo sum'\n",
    "words = sentence.split()"
   ]
  },
  {
   "cell_type": "code",
   "execution_count": 15,
   "metadata": {
    "collapsed": false
   },
   "outputs": [
    {
     "name": "stdout",
     "output_type": "stream",
     "text": [
      "['A3', 'B2', 'C1']\n"
     ]
    }
   ],
   "source": [
    "# Produce [A3, B2, C1]\n",
    "number_letter_lst = [rows[element]+cols[2-element] for element in range(3)]\n",
    "print(number_letter_lst)"
   ]
  },
  {
   "cell_type": "code",
   "execution_count": 47,
   "metadata": {
    "collapsed": false
   },
   "outputs": [
    {
     "name": "stdout",
     "output_type": "stream",
     "text": [
      "['A1', 'B1', 'C1', 'A2', 'B2', 'C2', 'A3', 'B3', 'C3']\n"
     ]
    }
   ],
   "source": [
    "# Produce [A1, B1, C1, A2, B2, C2, A3, B3, C3]\n",
    "letter_number_lst = [r+c for c in cols for r in rows]\n",
    "print(letter_number_lst)"
   ]
  },
  {
   "cell_type": "code",
   "execution_count": 52,
   "metadata": {
    "collapsed": false
   },
   "outputs": [
    {
     "name": "stdout",
     "output_type": "stream",
     "text": [
      "['A1 x C1', 'A1 x B2', 'A1 x A3', 'B2 x C1', 'B2 x B2', 'B2 x A3', 'C3 x C1', 'C3 x B2', 'C3 x A3']\n"
     ]
    }
   ],
   "source": [
    "x = [s1 + ' x ' + s2\n",
    "            for s1 in (rows[i]+cols[i] for i in range(3))\n",
    "            for s2 in (rows[2-j]+cols[j] for j in range(3))]\n",
    "print(x)"
   ]
  },
  {
   "cell_type": "markdown",
   "metadata": {},
   "source": [
    "## Generators"
   ]
  },
  {
   "cell_type": "markdown",
   "metadata": {},
   "source": [
    "We can do more complex things than just the basic list comprehensions. We can create more complex, succint comprehensions by introducing generators in our very statements. We haev the following data to work with:\n",
    "\n",
    "    rows = 'ABC\n",
    "    cols = '123'\n",
    "    \n",
    "In general, we want to access both the rows in cols at the same time.... How did we do that?"
   ]
  },
  {
   "cell_type": "code",
   "execution_count": 57,
   "metadata": {
    "collapsed": false
   },
   "outputs": [
    {
     "name": "stdout",
     "output_type": "stream",
     "text": [
      "['A1', 'A2', 'A3', 'B1', 'B2', 'B3', 'C1', 'C2', 'C3']\n"
     ]
    }
   ],
   "source": [
    "# Simply accessing rows and cols in a comprehensions [A1, A2, A3, B1, B2, B3, C1, C2, C3]\n",
    "\n",
    "# Non-Pythonic\n",
    "lst = []\n",
    "for r in rows:\n",
    "    for c in cols:\n",
    "        lst.append(r+c)\n",
    "        \n",
    "# Pythonic\n",
    "lst = [r+c for r in rows for c in cols]\n",
    "print(lst)"
   ]
  },
  {
   "cell_type": "markdown",
   "metadata": {},
   "source": [
    "Let's try Creating:\n",
    "\n",
    "['A1 x C1', 'A1 x B2', 'A1 x A3', 'B2 x C1', 'B2 x B2', 'B2 x A3', 'C3 x C1', 'C3 x B2', 'C3 x A3']\n",
    "\n",
    "Thought process, we know that rows will change every other 3, meaning we keep it constant..."
   ]
  },
  {
   "cell_type": "code",
   "execution_count": 72,
   "metadata": {
    "collapsed": false
   },
   "outputs": [
    {
     "name": "stdout",
     "output_type": "stream",
     "text": [
      "['A1xC1', 'A1xB2', 'A1xA3', 'B2xC1', 'B2xB2', 'B2xA3', 'C3xC1', 'C3xB2', 'C3xA3']\n"
     ]
    }
   ],
   "source": [
    "# let's figure this list out with normal syntax\n",
    "lst = []\n",
    "for r in (rows[i]+cols[i] for i in range(3)):\n",
    "    for c in (rows[2-i]+cols[i] for i in range(3)):\n",
    "        lst.append(r + 'x' + c)\n",
    "        \n",
    "print(lst)"
   ]
  },
  {
   "cell_type": "code",
   "execution_count": 73,
   "metadata": {
    "collapsed": true
   },
   "outputs": [],
   "source": [
    "# shortened\n",
    "crossed_list = [x + \" x \" + y for x in (rows[i]+cols[i] for i in range(3)) for y in (rows[2-i]+cols[i] for i in range(3))]"
   ]
  },
  {
   "cell_type": "code",
   "execution_count": 69,
   "metadata": {
    "collapsed": false
   },
   "outputs": [
    {
     "name": "stdout",
     "output_type": "stream",
     "text": [
      "['A1 x C1', 'A1 x B2', 'A1 x A3', 'B2 x C1', 'B2 x B2', 'B2 x A3', 'C3 x C1', 'C3 x B2', 'C3 x A3']\n"
     ]
    }
   ],
   "source": [
    "print(crossed_list)"
   ]
  },
  {
   "cell_type": "code",
   "execution_count": 74,
   "metadata": {
    "collapsed": true
   },
   "outputs": [],
   "source": [
    "x = sorted(words, key=lambda x: len(x))"
   ]
  },
  {
   "cell_type": "code",
   "execution_count": 75,
   "metadata": {
    "collapsed": false
   },
   "outputs": [
    {
     "name": "stdout",
     "output_type": "stream",
     "text": [
      "['sum', 'ergo', 'cogito']\n"
     ]
    }
   ],
   "source": [
    "print(x)"
   ]
  },
  {
   "cell_type": "code",
   "execution_count": null,
   "metadata": {
    "collapsed": true
   },
   "outputs": [],
   "source": []
  }
 ],
 "metadata": {
  "kernelspec": {
   "display_name": "Python 3",
   "language": "python",
   "name": "python3"
  },
  "language_info": {
   "codemirror_mode": {
    "name": "ipython",
    "version": 3
   },
   "file_extension": ".py",
   "mimetype": "text/x-python",
   "name": "python",
   "nbconvert_exporter": "python",
   "pygments_lexer": "ipython3",
   "version": "3.5.1"
  }
 },
 "nbformat": 4,
 "nbformat_minor": 0
}
