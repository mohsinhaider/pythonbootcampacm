{
 "cells": [
  {
   "cell_type": "markdown",
   "metadata": {},
   "source": [
    "# Dictionaries"
   ]
  },
  {
   "cell_type": "markdown",
   "metadata": {},
   "source": [
    "Python has 3 primary types of data: sequences, sets, and mappings. A dictionary is a mapping, or, in other words, a container for multiple mappings of key-value pairs. In specific, mappings are collections of objects organized by key values. What does this mean, effectively? Well, dictionaries do not retain any specific order - after all, they are organized by \"keys\", not by sequential memory locations like in a sequence. In this lecture we will cover:\n",
    "\n",
    "    1. Initializing a Dictionary\n",
    "        > General key-value mappings\n",
    "        > Varying keys\n",
    "        > Varying values\n",
    "        > Multiple values per key?\n",
    "    2. Accessing and Mutating Dictionaries\n",
    "        > Notation for access\n",
    "        > Mutation possibilities\n",
    "            > Assignment based, deletion, etc\n",
    "            > Methods\n",
    "    3. Dictionary Functions and Methods\n",
    "    4. Nesting Dictionaries"
   ]
  },
  {
   "cell_type": "markdown",
   "metadata": {},
   "source": [
    "## Initializing a Dictionary"
   ]
  },
  {
   "cell_type": "markdown",
   "metadata": {},
   "source": [
    "A dictionary is a mapping. To initialize dictionaries, we create these key-value mappings ourselves. The keys in the key object has to be a hashable type, but the value can be any type."
   ]
  },
  {
   "cell_type": "markdown",
   "metadata": {},
   "source": [
    "Let's initialize a dictionary that maps strings to numbers. If we were specific, this dictionary could hold the amount of the shares (integer) a person (string) has in a company."
   ]
  },
  {
   "cell_type": "code",
   "execution_count": 3,
   "metadata": {
    "collapsed": false
   },
   "outputs": [],
   "source": [
    "# Initializing a Dictionary\n",
    "my_dictionary = {\"Mike\":1, \"John\":5}"
   ]
  },
  {
   "cell_type": "markdown",
   "metadata": {
    "collapsed": false
   },
   "source": [
    "Can we map two integers? Yes, we can. Keys must be hashable types, and integers are hashable."
   ]
  },
  {
   "cell_type": "code",
   "execution_count": 4,
   "metadata": {
    "collapsed": true
   },
   "outputs": [],
   "source": [
    "# Initializing a dictionary with integer-integer pairs\n",
    "another_dict = {4:1, 8:2, 9:4, 2:6}"
   ]
  },
  {
   "cell_type": "markdown",
   "metadata": {},
   "source": [
    "Can we vary the key type across mappings in the dictionary? Yes. The example below creates a string, integer, and float key, and maps them all to integers."
   ]
  },
  {
   "cell_type": "code",
   "execution_count": 5,
   "metadata": {
    "collapsed": true
   },
   "outputs": [],
   "source": [
    "# Initializing a Dictionary with varying key types\n",
    "varying_dict = {\"John\":4, 9:5, 4.32:8}"
   ]
  },
  {
   "cell_type": "markdown",
   "metadata": {},
   "source": [
    "Can we vary the value type? Yes. Also, in most of our examples, we will end up mapping strings to numbers or data structures. Below, we've mapped out string keys to integers and lists."
   ]
  },
  {
   "cell_type": "code",
   "execution_count": 7,
   "metadata": {
    "collapsed": true
   },
   "outputs": [],
   "source": [
    "# Initializing a Dictionary that maps strings to either to an integer or list\n",
    "last_dict = {\"Micah\":[1, 2, 5], \"Rose\":4, \"John\":9, \"Gwen\":[5, 3]}"
   ]
  },
  {
   "cell_type": "markdown",
   "metadata": {},
   "source": [
    "Can we map dictionary to other dictionarys? Yes. Note below that \"Ruth\" and \"Barbara\" are keys of final_dict, and that \"John\" and \"Leslie\" are keys of the dictionary that Ruth is mapped to."
   ]
  },
  {
   "cell_type": "code",
   "execution_count": 9,
   "metadata": {
    "collapsed": true
   },
   "outputs": [],
   "source": [
    "final_dict = {\"Ruth\":{\"John\":[1, 2, 5], \"Leslie\":6 }, \"Barbara\":4}"
   ]
  },
  {
   "cell_type": "markdown",
   "metadata": {},
   "source": [
    "Multiple values cannot be assigned to a key in a dictionary. However, as we experimented above, we can map a key to a data structure that holds multiple values by nature."
   ]
  },
  {
   "cell_type": "markdown",
   "metadata": {},
   "source": [
    "## Accessing and Mutating Dictionaries"
   ]
  },
  {
   "cell_type": "markdown",
   "metadata": {},
   "source": [
    "Like any other data structure, dictionaries have certain methods of access and mutation."
   ]
  },
  {
   "cell_type": "markdown",
   "metadata": {},
   "source": [
    "### Accessing Dictionaries"
   ]
  },
  {
   "cell_type": "markdown",
   "metadata": {},
   "source": [
    "The common notation for access into a dictionary is by specifying the key, which returns the associated value. Consider the notation:\n",
    "\n",
    "    my_dict[key_here]\n",
    "    \n",
    "This notation will return the value(s) that the explicit key is mapped to in the dictionary. Let's try accessing values from dictionarys below."
   ]
  },
  {
   "cell_type": "markdown",
   "metadata": {},
   "source": [
    "First, let us create a dictionary. "
   ]
  },
  {
   "cell_type": "code",
   "execution_count": 13,
   "metadata": {
    "collapsed": true
   },
   "outputs": [],
   "source": [
    "# Initializing a Dictionary that maps strings to integers\n",
    "share_holdings_dict = {\"john\":5, \"michael\":4, \"rutherford\":19}"
   ]
  },
  {
   "cell_type": "markdown",
   "metadata": {},
   "source": [
    "How do we get the number of shares Michael has in the company? Using the above notation, we write the following."
   ]
  },
  {
   "cell_type": "code",
   "execution_count": 18,
   "metadata": {
    "collapsed": false
   },
   "outputs": [
    {
     "name": "stdout",
     "output_type": "stream",
     "text": [
      "4\n"
     ]
    }
   ],
   "source": [
    "michael_shares = share_holdings_dict[\"michael\"]\n",
    "print(michael_shares)"
   ]
  },
  {
   "cell_type": "markdown",
   "metadata": {},
   "source": [
    "Sure enough, we get the number of shares Michael has: 4. This notation will allow you to extract a key of any type. Let's try this example again. This time, let's map first names to last names."
   ]
  },
  {
   "cell_type": "code",
   "execution_count": 17,
   "metadata": {
    "collapsed": true
   },
   "outputs": [],
   "source": [
    "# Initializing a Dictionary that maps strings to strings\n",
    "computer_scientists_dict = {\"Peter\":\"Norvig\", \"Donald\":\"Knuth\", \"Ada\":\"Lovelace\", \"Grace\":\"Hopper\"}"
   ]
  },
  {
   "cell_type": "markdown",
   "metadata": {},
   "source": [
    "How do we get Ada's last name? Use the same notation from before."
   ]
  },
  {
   "cell_type": "code",
   "execution_count": 27,
   "metadata": {
    "collapsed": false
   },
   "outputs": [
    {
     "name": "stdout",
     "output_type": "stream",
     "text": [
      "Lovelace\n"
     ]
    }
   ],
   "source": [
    "last_name = computer_scientists_dict[\"Ada\"]\n",
    "print(last_name)"
   ]
  },
  {
   "cell_type": "markdown",
   "metadata": {},
   "source": [
    "Now, let us maps strings to lists. Recall that we can access values using keys. If a string is our key, then our value is a list."
   ]
  },
  {
   "cell_type": "code",
   "execution_count": 21,
   "metadata": {
    "collapsed": true
   },
   "outputs": [],
   "source": [
    "# Initializaing a Dictionary that maps strings to lists\n",
    "conversion_rate = {\"Moe's Pizza\":[5, 13, 4], \"Jeanie's Pub\":[7, 7, 8]}"
   ]
  },
  {
   "cell_type": "markdown",
   "metadata": {},
   "source": [
    "How do we access the Moe's conversion rate list? The same notation as always..."
   ]
  },
  {
   "cell_type": "code",
   "execution_count": 24,
   "metadata": {
    "collapsed": false
   },
   "outputs": [
    {
     "name": "stdout",
     "output_type": "stream",
     "text": [
      "[5, 13, 4]\n"
     ]
    }
   ],
   "source": [
    "# Retrieving the list\n",
    "rates_list = conversion_rate[\"Moe's Pizza\"]\n",
    "print(rates_list)"
   ]
  },
  {
   "cell_type": "markdown",
   "metadata": {},
   "source": [
    "We already know how to retrive values from keys - we just accessed the conversion rate list for Moe's Pizza. So, how do we access the the \"things\" inside of a value if it is a data structure (in this case, it is a list). In example: let us assume that the elements in the list represent the conversation rate from the 1st year, 2nd year, and 3rd year of opening business. How we do access Moe's Pizza's third year conversion rates. Here is the shorthand way to do it:"
   ]
  },
  {
   "cell_type": "code",
   "execution_count": 25,
   "metadata": {
    "collapsed": false
   },
   "outputs": [
    {
     "name": "stdout",
     "output_type": "stream",
     "text": [
      "4\n"
     ]
    }
   ],
   "source": [
    "third_year_conv = conversion_rate[\"Moe's Pizza\"][2]\n",
    "print(third_year_conv)"
   ]
  },
  {
   "cell_type": "markdown",
   "metadata": {},
   "source": [
    "The answer, as you can see, is to simply use bracket notation for this list. The expression\n",
    "\n",
    "    conversion_rate[\"Moe's Pizza\"]\n",
    "    \n",
    "gives us [5, 13, 4]. If we call\n",
    "\n",
    "    [5, 13, 4][2]\n",
    "    \n",
    "we would land 4. This is why we can use the bracket notation after getting the list to begin with."
   ]
  },
  {
   "cell_type": "markdown",
   "metadata": {},
   "source": [
    "### Mutating Dictionaries"
   ]
  },
  {
   "cell_type": "markdown",
   "metadata": {},
   "source": [
    "You can mutate a dictionary multiple ways. We could consider:\n",
    "\n",
    "Change value?\n",
    "Delete key?\n",
    "Add key?\n",
    "Change key?\n",
    "\n",
    "We **won't consider deleting a value or adding a value** because neither follow the natural state of a dictionary mapping: a key is never value-less."
   ]
  },
  {
   "cell_type": "markdown",
   "metadata": {},
   "source": [
    "To *change the value of a key* we could simple reassign the value, or perform some operation on it. Use the notation following to reassign the value:\n",
    "\n",
    "    my_dict[key] = new_value\n",
    "    \n",
    "This is the same notation as retrieving the value, but now with an equal sign to specify reassignment."
   ]
  },
  {
   "cell_type": "code",
   "execution_count": 31,
   "metadata": {
    "collapsed": false
   },
   "outputs": [],
   "source": [
    "# Initializing a Dictionary\n",
    "pothole_dict = {\"Morgan St.\":4, \"Tulsen Blvd.\":0, \"Michigan Ave.\":8}"
   ]
  },
  {
   "cell_type": "markdown",
   "metadata": {},
   "source": [
    "Now, Tulsen Blvd. has a recorded 9 potholes."
   ]
  },
  {
   "cell_type": "code",
   "execution_count": 34,
   "metadata": {
    "collapsed": false
   },
   "outputs": [],
   "source": [
    "# Changing a value of a key\n",
    "pothole_dict[\"Tulsen Blvd.\"] = 9"
   ]
  },
  {
   "cell_type": "markdown",
   "metadata": {},
   "source": [
    "Let's change Morgan St. and Mich Ave, too."
   ]
  },
  {
   "cell_type": "code",
   "execution_count": 36,
   "metadata": {
    "collapsed": true
   },
   "outputs": [],
   "source": [
    "# Change Michigan and Morgan\n",
    "pothole_dict[\"Michigan Ave.\"] = 30\n",
    "pothole_dict[\"Morgan St.\"] = 2"
   ]
  },
  {
   "cell_type": "markdown",
   "metadata": {},
   "source": [
    "How about *deleting a key*? Let's imagine that somehow, Michigan Avenue gets all of its potholes fixed. We can now remove it from the dictionary. That means, we want to remove a key. To remove a key, we need to delete the key using the \"del\" keyword. The notation is as follows:\n",
    "\n",
    "    del my_dict[key]\n",
    "    \n",
    "This statement removes your key, and thus its values, from the dictionary."
   ]
  },
  {
   "cell_type": "markdown",
   "metadata": {},
   "source": [
    "Let's remove Michigan Avenue using the notation above."
   ]
  },
  {
   "cell_type": "code",
   "execution_count": 40,
   "metadata": {
    "collapsed": false
   },
   "outputs": [
    {
     "name": "stdout",
     "output_type": "stream",
     "text": [
      "{'Tulsen Blvd.': 0, 'Morgan St.': 4}\n"
     ]
    }
   ],
   "source": [
    "# Initializing a Dictionary\n",
    "pothole_dict = {\"Morgan St.\":4, \"Tulsen Blvd.\":0, \"Michigan Ave.\":8}\n",
    "# Delete the reference\n",
    "del pothole_dict[\"Michigan Ave.\"]\n",
    "# Verify\n",
    "print(pothole_dict)"
   ]
  },
  {
   "cell_type": "markdown",
   "metadata": {},
   "source": [
    "As we can see, Michigan Ave. is no longer in the dictionary."
   ]
  },
  {
   "cell_type": "markdown",
   "metadata": {},
   "source": [
    "*Adding a key*: To add a key is to simply use the same notation as reassigning a key to a new value. If the dictionary detects that the key you put in does not exist, it will take that key and assign it to the value you assigned. The notation remains the same:\n",
    "\n",
    "    my_dict[key] = new_value\n",
    "    \n",
    "As long as key is not already in the dictionary, it will just create it and map it to the value you sent in anyways."
   ]
  },
  {
   "cell_type": "code",
   "execution_count": 42,
   "metadata": {
    "collapsed": false
   },
   "outputs": [
    {
     "name": "stdout",
     "output_type": "stream",
     "text": [
      "{'Tulsen Blvd.': 0, 'Wallace St.': 12, 'Michigan Ave.': 8, 'Morgan St.': 4}\n"
     ]
    }
   ],
   "source": [
    "# Initializing a Dictionary\n",
    "pothole_dict = {\"Morgan St.\":4, \"Tulsen Blvd.\":0, \"Michigan Ave.\":8}\n",
    "# Add a new street (Key)\n",
    "pothole_dict[\"Wallace St.\"] = 12\n",
    "# Verify we added Wallace St.\n",
    "print(pothole_dict)"
   ]
  },
  {
   "cell_type": "markdown",
   "metadata": {},
   "source": [
    "We can also *change a key*. Imagine we accidentally mapped the wrong name to a set of values. How would we do this? While there isn't a single-liner notation for this, we can think methodically. To assign a new key, is to save the values of the old key into a new variable, deleting the old key afterwards (so that we don't lose the values to begin with). Here's the notation:\n",
    "\n",
    "    my_dict[new_key] = my_dict[old_key]\n",
    "    del my_dict[old_key]\n",
    "    \n",
    "We create a new key (a key that's not already in the dictionary), and then assign it to the value that is mapped to the old_key (my_dict[old_key]). Afterwards, we no longer need the mapping of the old_key to its values, so we use the del operator to delete it and its values. The new_key and its values remain unscathed."
   ]
  },
  {
   "cell_type": "markdown",
   "metadata": {},
   "source": [
    "Let's change Morgan St. to Hollywood Blvd."
   ]
  },
  {
   "cell_type": "code",
   "execution_count": 43,
   "metadata": {
    "collapsed": false
   },
   "outputs": [
    {
     "name": "stdout",
     "output_type": "stream",
     "text": [
      "{'Hollywood Blvd.': 4, 'Tulsen Blvd.': 0, 'Michigan Ave.': 8}\n"
     ]
    }
   ],
   "source": [
    "# Initializing a Dictionary\n",
    "pothole_dict = {\"Morgan St.\":4, \"Tulsen Blvd.\":0, \"Michigan Ave.\":8}\n",
    "# Store the values with new key\n",
    "pothole_dict[\"Hollywood Blvd.\"] = pothole_dict[\"Morgan St.\"]\n",
    "# Delete the old key, and the values it was mapped to\n",
    "del pothole_dict[\"Morgan St.\"]\n",
    "# Verify that Hollywood Blvd. replaced Morgan St.\n",
    "print(pothole_dict)"
   ]
  },
  {
   "cell_type": "markdown",
   "metadata": {},
   "source": [
    "#### Using methods to mutate dictionary values"
   ]
  },
  {
   "cell_type": "code",
   "execution_count": null,
   "metadata": {
    "collapsed": true
   },
   "outputs": [],
   "source": []
  }
 ],
 "metadata": {
  "kernelspec": {
   "display_name": "Python 3",
   "language": "python",
   "name": "python3"
  },
  "language_info": {
   "codemirror_mode": {
    "name": "ipython",
    "version": 3
   },
   "file_extension": ".py",
   "mimetype": "text/x-python",
   "name": "python",
   "nbconvert_exporter": "python",
   "pygments_lexer": "ipython3",
   "version": "3.5.1"
  }
 },
 "nbformat": 4,
 "nbformat_minor": 0
}
