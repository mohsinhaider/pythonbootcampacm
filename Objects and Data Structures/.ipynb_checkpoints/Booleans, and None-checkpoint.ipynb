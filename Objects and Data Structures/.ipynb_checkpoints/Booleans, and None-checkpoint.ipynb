{
 "cells": [
  {
   "cell_type": "markdown",
   "metadata": {},
   "source": [
    "# Boolean and None Objects"
   ]
  },
  {
   "cell_type": "markdown",
   "metadata": {},
   "source": [
    "*Note: Complete this lecture after finishing the \"Comparison Operators\" Section* \n",
    "\n",
    "Booleans are objects that evaluate to either True or False. In turn, they represent the 1 and 0 \"on and off\" concept. Whether you're building a web form or working with backend authentication, working with boolean objects is something that is inevitable. You use Booleans to check if things are either True or False, and use control flow to handle the situation accordingly."
   ]
  },
  {
   "cell_type": "markdown",
   "metadata": {},
   "source": [
    "A boolean object is either True, or False."
   ]
  },
  {
   "cell_type": "code",
   "execution_count": 1,
   "metadata": {
    "collapsed": true
   },
   "outputs": [],
   "source": [
    "# Declaring both Boolean values\n",
    "a = True\n",
    "b = False"
   ]
  },
  {
   "cell_type": "markdown",
   "metadata": {},
   "source": [
    "To stay practical, it is important to understand that you won't be assigning True and False values to variables as much as you will be **receiving** them. We talked in the \"Comparison Operators\" series about said operators, and what they return. How do we capture True and False from an expression?"
   ]
  },
  {
   "cell_type": "code",
   "execution_count": 2,
   "metadata": {
    "collapsed": true
   },
   "outputs": [],
   "source": [
    "# Capturing True from an expression\n",
    "x = 2 < 3"
   ]
  },
  {
   "cell_type": "code",
   "execution_count": 3,
   "metadata": {
    "collapsed": true
   },
   "outputs": [],
   "source": [
    "# Capturing False from an expression\n",
    "y = 5 > 9"
   ]
  },
  {
   "cell_type": "markdown",
   "metadata": {},
   "source": [
    "The general format for if-else control flow in Python is the following:"
   ]
  },
  {
   "cell_type": "markdown",
   "metadata": {},
   "source": [
    "    if something_that_evals_to_True:\n",
    "        foo()\n",
    "    elif something_else_:\n",
    "        woo()\n",
    "    .\n",
    "    .\n",
    "    else:\n",
    "        falsework()"
   ]
  },
  {
   "cell_type": "markdown",
   "metadata": {},
   "source": [
    "## None"
   ]
  },
  {
   "cell_type": "markdown",
   "metadata": {},
   "source": [
    "Often, you will not always be sure as to what an object should hold yet. You may have a variable in mind to store an incoming object, but you need a placeholder. Or, perhaps, you want to check if the object you received is nothing. In this case, we use the \"None\" object."
   ]
  },
  {
   "cell_type": "code",
   "execution_count": 6,
   "metadata": {
    "collapsed": true
   },
   "outputs": [],
   "source": [
    "# Example of assigning None, and changing it.\n",
    "some_obj = None\n",
    "\n",
    "if 2 < 3:\n",
    "    some_obj = True"
   ]
  }
 ],
 "metadata": {
  "kernelspec": {
   "display_name": "Python 3",
   "language": "python",
   "name": "python3"
  },
  "language_info": {
   "codemirror_mode": {
    "name": "ipython",
    "version": 3
   },
   "file_extension": ".py",
   "mimetype": "text/x-python",
   "name": "python",
   "nbconvert_exporter": "python",
   "pygments_lexer": "ipython3",
   "version": "3.5.1"
  }
 },
 "nbformat": 4,
 "nbformat_minor": 0
}
