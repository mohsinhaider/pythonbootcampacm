{
 "cells": [
  {
   "cell_type": "markdown",
   "metadata": {},
   "source": [
    "## Sets"
   ]
  },
  {
   "cell_type": "markdown",
   "metadata": {},
   "source": [
    "A Set is an unordered collection of unique and immutable objects. Sets can be heterogenous in composition. A set is it's own category of data structures, as is a sequence and a mapping. However, the set category in Python has one data structure, literally known as the set, while sequences in Python are strings, lists, tuples, etc. In this lecture, we will cover:\n",
    "\n",
    "    1. Initializing a Set\n",
    "        > Curly bracket notation\n",
    "        > Built-in function\n",
    "    2. Access and Modifying a Set"
   ]
  },
  {
   "cell_type": "markdown",
   "metadata": {},
   "source": [
    "## Initializing a Set"
   ]
  },
  {
   "cell_type": "markdown",
   "metadata": {},
   "source": [
    "We can initialize a set using curly bracket notation or the set() built-in function. In sets, all objects must be hashable types, like the key of a dictionary. This means that lists and dictionaries cannot be in a set, but objects like numbers and strings can be."
   ]
  },
  {
   "cell_type": "code",
   "execution_count": 18,
   "metadata": {
    "collapsed": false
   },
   "outputs": [],
   "source": [
    "# Creating a Set using curly bracket notation\n",
    "my_set = {\"MONDAY\", \"TUESDAY\", \"WEDNESDAY\"}"
   ]
  },
  {
   "cell_type": "markdown",
   "metadata": {},
   "source": [
    "Sets can be heterogenous, as long as they are unique, too. "
   ]
  },
  {
   "cell_type": "code",
   "execution_count": 24,
   "metadata": {
    "collapsed": false
   },
   "outputs": [],
   "source": [
    "my_set = {\"Hello\", 9.0, \"foo\", 19}"
   ]
  },
  {
   "cell_type": "markdown",
   "metadata": {},
   "source": [
    "Notice how all of the objects in the set we made are unique. What if we make a set like this?"
   ]
  },
  {
   "cell_type": "code",
   "execution_count": 29,
   "metadata": {
    "collapsed": true
   },
   "outputs": [],
   "source": [
    "# A set with non-unique elements?\n",
    "my_set = {\"Hello\", \"Hello\", 9.0, 9.0}"
   ]
  },
  {
   "cell_type": "markdown",
   "metadata": {},
   "source": [
    "Fear not - no errors or exceptions are raised when adding items that already exist in a set, they are just considerd by the set once. **While the cell does not accurately represent this, we can print and verify.**"
   ]
  },
  {
   "cell_type": "code",
   "execution_count": 28,
   "metadata": {
    "collapsed": false
   },
   "outputs": [
    {
     "name": "stdout",
     "output_type": "stream",
     "text": [
      "{9.0, 'Hello'}\n"
     ]
    }
   ],
   "source": [
    "# A set with non-unique elements?\n",
    "my_set = {\"Hello\", \"Hello\", 9.0, 9.0}\n",
    "# Verifying that the set only considered each item once\n",
    "print(my_set)"
   ]
  },
  {
   "cell_type": "markdown",
   "metadata": {},
   "source": [
    "We can also use the **set()** built-in function to create a set."
   ]
  },
  {
   "cell_type": "code",
   "execution_count": null,
   "metadata": {
    "collapsed": true
   },
   "outputs": [],
   "source": []
  }
 ],
 "metadata": {
  "kernelspec": {
   "display_name": "Python 3",
   "language": "python",
   "name": "python3"
  },
  "language_info": {
   "codemirror_mode": {
    "name": "ipython",
    "version": 3
   },
   "file_extension": ".py",
   "mimetype": "text/x-python",
   "name": "python",
   "nbconvert_exporter": "python",
   "pygments_lexer": "ipython3",
   "version": "3.5.1"
  }
 },
 "nbformat": 4,
 "nbformat_minor": 0
}
