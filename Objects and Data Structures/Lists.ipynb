{
 "cells": [
  {
   "cell_type": "markdown",
   "metadata": {},
   "source": [
    "# Lists"
   ]
  },
  {
   "cell_type": "markdown",
   "metadata": {},
   "source": [
    "A list is an indexable and mutable sequence of objects. In short, lists are capable of holding various types of objects. Understand that this is a **data structure**, as it holds data for us.\n",
    "\n",
    "In this lecture we will cover:\n",
    "\n",
    "    1. Initializing a List\n",
    "    2. Indexing, Slicing and Combining Lists\n",
    "    3. List Functions and Methods\n",
    "    4. Pythonic Code\n",
    "        > List Comprehensions\n",
    "        > Other nitty-gritties\n",
    "    5. Nesting Lists"
   ]
  },
  {
   "cell_type": "markdown",
   "metadata": {},
   "source": [
    "## Initializing Lists"
   ]
  },
  {
   "cell_type": "markdown",
   "metadata": {},
   "source": [
    "You initialize a list with bracket notation, with each object in the list seperated with a comma."
   ]
  },
  {
   "cell_type": "code",
   "execution_count": 122,
   "metadata": {
    "collapsed": true
   },
   "outputs": [],
   "source": [
    "# Creating a list with the numbers 1 to 5\n",
    "my_list = [1, 2, 3, 4, 5]"
   ]
  },
  {
   "cell_type": "markdown",
   "metadata": {},
   "source": [
    "Recall that we mentioned about lists having the ability to store multiple types of objects. If you are familiar with other programming languages, this is not always the case. Python, however, has allowed us to do so."
   ]
  },
  {
   "cell_type": "code",
   "execution_count": 123,
   "metadata": {
    "collapsed": true
   },
   "outputs": [],
   "source": [
    "# Creating a list with an integer, string, and float.\n",
    "my_new_list = [3, \"Houston\", 4.5]"
   ]
  },
  {
   "cell_type": "markdown",
   "metadata": {},
   "source": [
    "Lastly, you can also create lists that have lists in them. An example of this is provided in the next cell, but we will talk about it further in the \"Nesting Lists\" section. Here, the list [3, 4, 5] is also considered one single object inside of a_list."
   ]
  },
  {
   "cell_type": "code",
   "execution_count": 124,
   "metadata": {
    "collapsed": true
   },
   "outputs": [],
   "source": [
    "# This list contains 1, 2, and the list [3, 4, 5]\n",
    "a_list = [1, 2, [3, 4, 5]]"
   ]
  },
  {
   "cell_type": "markdown",
   "metadata": {},
   "source": [
    "## Indexing Lists"
   ]
  },
  {
   "cell_type": "markdown",
   "metadata": {},
   "source": [
    "Lists are contiguous, monolithic data structures. When we talk about objects in memory, we mean that every object has some dedicated space in memory. In a list, objects are \"next\" to eachother in memory. This means that accessing the next list object is as simple as finding the index of that object in the list, since it can only be some constant defined in memory. Consider this list:\n",
    "\n",
    "    lst = [1, \"hello\", 2.3]\n",
    "\n",
    "Here, the number 1 comes before \"hello\" in memory, and the number 2.3 comes after \"hello\" in memory. They are seperated by some given space, and are thus contiguous in memory. Why does contiguousness matter? It means we can index lists and get their objects out. Recall indexing a string:"
   ]
  },
  {
   "cell_type": "code",
   "execution_count": 125,
   "metadata": {
    "collapsed": false
   },
   "outputs": [],
   "source": [
    "# Declaring a string\n",
    "my_str = \"hello\""
   ]
  },
  {
   "cell_type": "code",
   "execution_count": 126,
   "metadata": {
    "collapsed": false
   },
   "outputs": [
    {
     "name": "stdout",
     "output_type": "stream",
     "text": [
      "h e l l o\n"
     ]
    }
   ],
   "source": [
    "# Writing a print function with comma seperation (each object is printed with a space next to the previous)\n",
    "print(my_str[0], my_str[1], my_str[2], my_str[3], my_str[4])"
   ]
  },
  {
   "cell_type": "markdown",
   "metadata": {},
   "source": [
    "Let us now declare a list and try working with the same indexing constructs that functioned with a string."
   ]
  },
  {
   "cell_type": "code",
   "execution_count": 127,
   "metadata": {
    "collapsed": true
   },
   "outputs": [],
   "source": [
    "# Declare a list with varying object types\n",
    "lst = [1, \"hello\", 2.3]"
   ]
  },
  {
   "cell_type": "code",
   "execution_count": 128,
   "metadata": {
    "collapsed": false
   },
   "outputs": [
    {
     "name": "stdout",
     "output_type": "stream",
     "text": [
      "1\n"
     ]
    }
   ],
   "source": [
    "# printing the first object in a list\n",
    "print(lst[0])"
   ]
  },
  {
   "cell_type": "code",
   "execution_count": 129,
   "metadata": {
    "collapsed": false
   },
   "outputs": [
    {
     "name": "stdout",
     "output_type": "stream",
     "text": [
      "1 hello 2.3\n"
     ]
    }
   ],
   "source": [
    "# printing all of the objects in the list\n",
    "print(lst[0], lst[1], lst[2])"
   ]
  },
  {
   "cell_type": "markdown",
   "metadata": {},
   "source": [
    "## Slicing Lists"
   ]
  },
  {
   "cell_type": "markdown",
   "metadata": {},
   "source": [
    "A slice of a sequence is the act of accessing multiple objects within it simultaneously. The notation may look familiar.\n",
    "\n",
    "    my_list[start:end:skip]\n",
    "\n",
    "Recall the behavior when working with strings (sequence of characters)."
   ]
  },
  {
   "cell_type": "code",
   "execution_count": 130,
   "metadata": {
    "collapsed": true
   },
   "outputs": [],
   "source": [
    "# Declaring a string\n",
    "my_str = \"goodbye\""
   ]
  },
  {
   "cell_type": "code",
   "execution_count": 131,
   "metadata": {
    "collapsed": false
   },
   "outputs": [
    {
     "name": "stdout",
     "output_type": "stream",
     "text": [
      "goo\n"
     ]
    }
   ],
   "source": [
    "# Access first 3 objects in list (item 0, 1, 2)\n",
    "print(my_str[0:3])"
   ]
  },
  {
   "cell_type": "markdown",
   "metadata": {},
   "source": [
    "Let's also review notation. We could right the above cell this way, too."
   ]
  },
  {
   "cell_type": "code",
   "execution_count": 132,
   "metadata": {
    "collapsed": false
   },
   "outputs": [
    {
     "name": "stdout",
     "output_type": "stream",
     "text": [
      "goo\n"
     ]
    }
   ],
   "source": [
    "print(my_str[:3])"
   ]
  },
  {
   "cell_type": "markdown",
   "metadata": {},
   "source": [
    "A few more examples."
   ]
  },
  {
   "cell_type": "code",
   "execution_count": 133,
   "metadata": {
    "collapsed": false
   },
   "outputs": [
    {
     "name": "stdout",
     "output_type": "stream",
     "text": [
      "oodbye\n"
     ]
    }
   ],
   "source": [
    "# Access beginning to 2nd character to end\n",
    "print(my_str[1:])"
   ]
  },
  {
   "cell_type": "code",
   "execution_count": 134,
   "metadata": {
    "collapsed": false
   },
   "outputs": [
    {
     "name": "stdout",
     "output_type": "stream",
     "text": [
      "gobe\n"
     ]
    }
   ],
   "source": [
    "# Access every other character (skipping)\n",
    "print(my_str[::2])"
   ]
  },
  {
   "cell_type": "code",
   "execution_count": 135,
   "metadata": {
    "collapsed": false
   },
   "outputs": [
    {
     "name": "stdout",
     "output_type": "stream",
     "text": [
      "eybdoog\n"
     ]
    }
   ],
   "source": [
    "# Access backwards\n",
    "print(my_str[::-1])"
   ]
  },
  {
   "cell_type": "markdown",
   "metadata": {},
   "source": [
    "Lists work no differently. Slicing lists is shown below."
   ]
  },
  {
   "cell_type": "code",
   "execution_count": 136,
   "metadata": {
    "collapsed": true
   },
   "outputs": [],
   "source": [
    "# A list with strings, integer, and float\n",
    "my_list = [\"a\", \"collection\", \"of\", 4, \"version\", 5.0, \"glasses\"]"
   ]
  },
  {
   "cell_type": "code",
   "execution_count": 137,
   "metadata": {
    "collapsed": false
   },
   "outputs": [
    {
     "name": "stdout",
     "output_type": "stream",
     "text": [
      "['a', 'collection', 'of', 4, 'version', 5.0, 'glasses']\n"
     ]
    }
   ],
   "source": [
    "# To end\n",
    "print(my_list[0:])"
   ]
  },
  {
   "cell_type": "code",
   "execution_count": 138,
   "metadata": {
    "collapsed": false
   },
   "outputs": [
    {
     "name": "stdout",
     "output_type": "stream",
     "text": [
      "['of', 4, 'version']\n"
     ]
    }
   ],
   "source": [
    "# middle 3\n",
    "print(my_list[2:5])"
   ]
  },
  {
   "cell_type": "code",
   "execution_count": 139,
   "metadata": {
    "collapsed": false
   },
   "outputs": [
    {
     "name": "stdout",
     "output_type": "stream",
     "text": [
      "['glasses', 5.0, 'version', 4, 'of', 'collection', 'a']\n"
     ]
    }
   ],
   "source": [
    "# backwards\n",
    "print(my_list[::-1])"
   ]
  },
  {
   "cell_type": "markdown",
   "metadata": {},
   "source": [
    "In general, string and list behavior is similar because they are both objects that are sequences. More specifically, lists are data structures - strings are not."
   ]
  },
  {
   "cell_type": "markdown",
   "metadata": {},
   "source": [
    "## Combining Lists"
   ]
  },
  {
   "cell_type": "markdown",
   "metadata": {},
   "source": [
    "Like numbers, lists can use mathematical operators (some of them). Consider the following.\n",
    "\n",
    "    Addition - appending a new list to the end\n",
    "    Multiplying - appending the list itself by provided integer constant\n",
    "    "
   ]
  },
  {
   "cell_type": "code",
   "execution_count": 140,
   "metadata": {
    "collapsed": true
   },
   "outputs": [],
   "source": [
    "my_list = [\"wow\", 1, 2]"
   ]
  },
  {
   "cell_type": "markdown",
   "metadata": {},
   "source": [
    "Adding two lists is what you would expect. The list is appended (added) to the end. It could be a list of a single object - it does not matter."
   ]
  },
  {
   "cell_type": "code",
   "execution_count": 141,
   "metadata": {
    "collapsed": false
   },
   "outputs": [
    {
     "name": "stdout",
     "output_type": "stream",
     "text": [
      "['wow', 1, 2, 'wow', 1, 2]\n"
     ]
    }
   ],
   "source": [
    "# Adding two lists\n",
    "my_list = my_list + my_list\n",
    "print(my_list)"
   ]
  },
  {
   "cell_type": "markdown",
   "metadata": {},
   "source": [
    "Or, we can just append an item. (Note that we are chaning my_list permanently as we go to each cell)"
   ]
  },
  {
   "cell_type": "code",
   "execution_count": 142,
   "metadata": {
    "collapsed": false
   },
   "outputs": [
    {
     "name": "stdout",
     "output_type": "stream",
     "text": [
      "['wow', 1, 2, 'wow', 1, 2, 'work']\n"
     ]
    }
   ],
   "source": [
    "# Appending the string \"work\" to our list\n",
    "my_list = my_list + [\"work\"]\n",
    "print(my_list)"
   ]
  },
  {
   "cell_type": "markdown",
   "metadata": {},
   "source": [
    "Multiplication on a list can be done with a constant number. You cannot multiply two lists together (only a constant to replicate the list at hand)."
   ]
  },
  {
   "cell_type": "code",
   "execution_count": 143,
   "metadata": {
    "collapsed": false
   },
   "outputs": [
    {
     "name": "stdout",
     "output_type": "stream",
     "text": [
      "['wow', 1, 2, 'wow', 1, 2, 'wow', 1, 2]\n"
     ]
    }
   ],
   "source": [
    "my_list = [\"wow\", 1, 2]\n",
    "my_list = my_list * 3\n",
    "print(my_list)"
   ]
  },
  {
   "cell_type": "markdown",
   "metadata": {},
   "source": [
    "## List Functions and Methods"
   ]
  },
  {
   "cell_type": "markdown",
   "metadata": {},
   "source": [
    "In the Python Standard Library, each built-in object has its own set of functions and methods. The mathematical operators used with numbers +, -, *, and / actually correspond to the \"__add__\", \"__sub__\", \"__mul__\" and \"__div__\" functions. Lists are no different. They also have their own functions."
   ]
  },
  {
   "cell_type": "markdown",
   "metadata": {},
   "source": [
    "### List Functions"
   ]
  },
  {
   "cell_type": "markdown",
   "metadata": {},
   "source": [
    "The function len() is one you will use very often. Recall that functions are not associated with specific objects. "
   ]
  },
  {
   "cell_type": "code",
   "execution_count": 144,
   "metadata": {
    "collapsed": true
   },
   "outputs": [],
   "source": [
    "# Length of my list\n",
    "my_list = [1, 2, \"baby\", \"just\"]"
   ]
  },
  {
   "cell_type": "code",
   "execution_count": 145,
   "metadata": {
    "collapsed": false
   },
   "outputs": [
    {
     "name": "stdout",
     "output_type": "stream",
     "text": [
      "4\n"
     ]
    }
   ],
   "source": [
    "# Get the length\n",
    "print(len(my_list))"
   ]
  },
  {
   "cell_type": "markdown",
   "metadata": {},
   "source": [
    "Often, you will find yourself trying to find the last index of a list. Well, if know that \"n\" represents the length of a list, the last element's position can be identified as indice \"n - 1\". "
   ]
  },
  {
   "cell_type": "code",
   "execution_count": 146,
   "metadata": {
    "collapsed": false
   },
   "outputs": [
    {
     "name": "stdout",
     "output_type": "stream",
     "text": [
      "just\n"
     ]
    }
   ],
   "source": [
    "# Should print \"just\"\n",
    "last_indice = len(my_list) - 1\n",
    "print(my_list[last_indice])"
   ]
  },
  {
   "cell_type": "markdown",
   "metadata": {},
   "source": [
    "### List Methods"
   ]
  },
  {
   "cell_type": "markdown",
   "metadata": {},
   "source": [
    "There are many important list methods. Recall that methods are functions that have an association with an object."
   ]
  },
  {
   "cell_type": "markdown",
   "metadata": {
    "collapsed": true
   },
   "source": [
    "We'll cover most of the methods you can use on a list:\n",
    "\n",
    "    1. append(object) - returns and appends given item to a list\n",
    "    2. clear() - clears (emptys) a list\n",
    "    3. copy() - returns a replicated list object of implicit list object\n",
    "    4. count(object) - returns count of object occurences in list\n",
    "    5. extend(iterable object) - returns a list object with objects appended from explicit iterable\n",
    "    6. index(object) - returns index of the first occurence of object in list\n",
    "    7. insert(inidice, object) - object added at given position\n",
    "    8. pop - returns and removes the last object in a list\n",
    "    9. remove - returns a list with object removed\n",
    "    10. reverse - returns a reversed list\n",
    "    11. sort - returns sorted list"
   ]
  },
  {
   "cell_type": "code",
   "execution_count": 147,
   "metadata": {
    "collapsed": false
   },
   "outputs": [
    {
     "name": "stdout",
     "output_type": "stream",
     "text": [
      "before: ['charlotte', 'winnipeg', 'sydney']\n",
      "after:  ['charlotte', 'winnipeg', 'sydney', 'chicago']\n"
     ]
    }
   ],
   "source": [
    "# Appending an item to a list\n",
    "my_list = [\"charlotte\", \"winnipeg\", \"sydney\"]\n",
    "print(\"before:\", my_list)\n",
    "my_list.append(\"chicago\")\n",
    "print(\"after: \", my_list)"
   ]
  },
  {
   "cell_type": "code",
   "execution_count": 148,
   "metadata": {
    "collapsed": false
   },
   "outputs": [
    {
     "name": "stdout",
     "output_type": "stream",
     "text": [
      "before: ['charlotte', 'winnipeg', 'sydney']\n",
      "after: []\n"
     ]
    }
   ],
   "source": [
    "# clearing a list\n",
    "my_list = [\"charlotte\", \"winnipeg\", \"sydney\"]\n",
    "print(\"before:\", my_list)\n",
    "my_list.clear()\n",
    "print(\"after:\", my_list)"
   ]
  },
  {
   "cell_type": "code",
   "execution_count": 149,
   "metadata": {
    "collapsed": false
   },
   "outputs": [
    {
     "name": "stdout",
     "output_type": "stream",
     "text": [
      "before: ['charlotte', 'winnipeg', 'sydney']\n",
      "after: ['charlotte', 'winnipeg', 'sydney']\n",
      "my_new_list: ['charlotte', 'winnipeg', 'sydney']\n"
     ]
    }
   ],
   "source": [
    "# Copying a list\n",
    "my_list = [\"charlotte\", \"winnipeg\", \"sydney\"]\n",
    "print(\"before:\", my_list)\n",
    "my_new_list = my_list.copy()\n",
    "print(\"after:\", my_list)\n",
    "print(\"my_new_list:\", my_new_list)"
   ]
  },
  {
   "cell_type": "code",
   "execution_count": 150,
   "metadata": {
    "collapsed": false
   },
   "outputs": [
    {
     "name": "stdout",
     "output_type": "stream",
     "text": [
      "before: 0\n",
      "after: 1\n"
     ]
    }
   ],
   "source": [
    "# counting a list\n",
    "my_list = [\"charlotte\", \"winnipeg\", \"sydney\"]\n",
    "print(\"before:\", my_list.count(\"winipeg\"))\n",
    "my_list.append(\"winipeg\")\n",
    "print(\"after:\", my_list.count(\"winipeg\"))"
   ]
  },
  {
   "cell_type": "code",
   "execution_count": 151,
   "metadata": {
    "collapsed": false
   },
   "outputs": [
    {
     "name": "stdout",
     "output_type": "stream",
     "text": [
      "before: ['charlotte', 'winipeg', 'sydney']\n",
      "after: ['charlotte', 'winipeg', 'sydney', 'chicago', 'houston']\n"
     ]
    }
   ],
   "source": [
    "# extending a list\n",
    "my_list = [\"charlotte\", \"winipeg\", \"sydney\"]\n",
    "print(\"before:\", my_list)\n",
    "my_list.extend([\"chicago\", \"houston\"])\n",
    "print(\"after:\", my_list)\n",
    "\n",
    "# what would this do? Look at the markdown cell a few below.\n",
    "# my_list.extend(\"chicago\")"
   ]
  },
  {
   "cell_type": "code",
   "execution_count": 152,
   "metadata": {
    "collapsed": false
   },
   "outputs": [
    {
     "name": "stdout",
     "output_type": "stream",
     "text": [
      "before: 2\n",
      "before: 2\n"
     ]
    }
   ],
   "source": [
    "# indexing a list\n",
    "my_list = [\"charlotte\", \"winipeg\", \"sydney\"]\n",
    "print(\"before:\", my_list.index(\"sydney\"))\n",
    "my_list.append(\"sydney\")\n",
    "print(\"before:\", my_list.index(\"sydney\"))"
   ]
  },
  {
   "cell_type": "code",
   "execution_count": 153,
   "metadata": {
    "collapsed": false
   },
   "outputs": [
    {
     "name": "stdout",
     "output_type": "stream",
     "text": [
      "before: ['charlotte', 'winipeg', 'sydney']\n",
      "after: ['charlotte', 'chicago', 'winipeg', 'sydney']\n"
     ]
    }
   ],
   "source": [
    "# inserting into a list\n",
    "my_list = [\"charlotte\", \"winipeg\", \"sydney\"]\n",
    "print(\"before:\", my_list)\n",
    "my_list.insert(1, \"chicago\")\n",
    "print(\"after:\", my_list)"
   ]
  },
  {
   "cell_type": "code",
   "execution_count": 154,
   "metadata": {
    "collapsed": false
   },
   "outputs": [
    {
     "name": "stdout",
     "output_type": "stream",
     "text": [
      "before: ['charlotte', 'winnipeg', 'sydney']\n",
      "after: ['charlotte', 'winnipeg']\n"
     ]
    }
   ],
   "source": [
    "# popping from a list\n",
    "my_list = [\"charlotte\", \"winnipeg\", \"sydney\"]\n",
    "print(\"before:\", my_list)\n",
    "my_list.pop()\n",
    "print(\"after:\", my_list)"
   ]
  },
  {
   "cell_type": "code",
   "execution_count": 155,
   "metadata": {
    "collapsed": false
   },
   "outputs": [
    {
     "name": "stdout",
     "output_type": "stream",
     "text": [
      "before: ['charlotte', 'winnipeg', 'sydney']\n",
      "after: ['charlotte', 'winnipeg'] \n",
      "\n",
      "before: ['charlotte', 'winnipeg', 'sydney']\n",
      "after inserting: ['charlotte', 'winnipeg', 'charlotte', 'sydney']\n",
      "after removing: ['winnipeg', 'charlotte', 'sydney']\n"
     ]
    }
   ],
   "source": [
    "# removing from a list\n",
    "my_list = [\"charlotte\", \"winnipeg\", \"sydney\"]\n",
    "print(\"before:\", my_list)\n",
    "my_list.remove(\"sydney\")\n",
    "print(\"after:\", my_list, '\\n')\n",
    "\n",
    "# another example of removing\n",
    "my_list = [\"charlotte\", \"winnipeg\", \"sydney\"]\n",
    "print(\"before:\", my_list)\n",
    "my_list.insert(2, \"charlotte\")\n",
    "print(\"after inserting:\", my_list)\n",
    "my_list.remove(\"charlotte\")\n",
    "print(\"after removing:\", my_list)\n",
    "\n",
    "# which \"charlotte\" got removed? (Hint: first occurences, only!)"
   ]
  },
  {
   "cell_type": "code",
   "execution_count": 156,
   "metadata": {
    "collapsed": false
   },
   "outputs": [
    {
     "name": "stdout",
     "output_type": "stream",
     "text": [
      "before: ['charlotte', 'winnipeg', 'sydney']\n",
      "after: ['sydney', 'winnipeg', 'charlotte']\n"
     ]
    }
   ],
   "source": [
    "# reversing a list\n",
    "my_list = [\"charlotte\", \"winnipeg\", \"sydney\"]\n",
    "print(\"before:\", my_list)\n",
    "my_list.reverse()\n",
    "print(\"after:\", my_list)"
   ]
  },
  {
   "cell_type": "code",
   "execution_count": 157,
   "metadata": {
    "collapsed": false
   },
   "outputs": [
    {
     "name": "stdout",
     "output_type": "stream",
     "text": [
      "before: ['charlotte', 'winipeg', 'sydney']\n",
      "after: ['charlotte', 'sydney', 'winipeg']\n"
     ]
    }
   ],
   "source": [
    "# sorting a list\n",
    "my_list = [\"charlotte\", \"winipeg\", \"sydney\"]\n",
    "print(\"before:\", my_list)\n",
    "my_list.sort()\n",
    "print(\"after:\", my_list)"
   ]
  },
  {
   "cell_type": "markdown",
   "metadata": {},
   "source": [
    "## Pythonic Code"
   ]
  },
  {
   "cell_type": "markdown",
   "metadata": {},
   "source": [
    "Code that you write normally can be more than likely shortened if it is written \"Pythonically\". Idiomatic Python. Python is more than just a programming language, as the foundation has released specifications in the documents as to how to most efficiently write python code - mainly to cover \"natural constructs\" of otherwise messy statements. Pythonic code allows the programmer to drastically shorten operations, and Python can get away with this because of its nature of being a high-level programming language. **It is essential** you understand how to write code Pythonically, as many Python progammers use the notations specified very frequently. It also saves a lot of time, too. Explore the sections below to see how Pythonic code applies to lists and beyond."
   ]
  },
  {
   "cell_type": "markdown",
   "metadata": {},
   "source": [
    "### List Comprehensions"
   ]
  },
  {
   "cell_type": "markdown",
   "metadata": {},
   "source": [
    "List comprehensions allow for acting on lists in a faster, iterative fashion. **Note:** While we haven't discussed iterative constructs like the for-statement yet, it is enough to understand that a for-statement allows for a repetitive task to be accomplished. Take the following, self-explanatory example."
   ]
  },
  {
   "cell_type": "code",
   "execution_count": 167,
   "metadata": {
    "collapsed": false
   },
   "outputs": [
    {
     "name": "stdout",
     "output_type": "stream",
     "text": [
      "['hello', 'hello', 'hello', 'hello', 'hello', 'hello', 'hello', 'hello', 'hello', 'hello']\n"
     ]
    }
   ],
   "source": [
    "\"\"\"As you see, count assumes the values 0, 1... 10 and for each time it assumes a value, it prints \"hello\". Because\n",
    "it assumes a value 10 times (the y number in range(x, y) is exclusive), it prints 10 times. \"\"\"\n",
    "my_list = []\n",
    "for count in range(0, 10):\n",
    "    my_list.append(\"hello\")\n",
    "print(my_list)"
   ]
  },
  {
   "cell_type": "markdown",
   "metadata": {},
   "source": [
    "That look a total of 3 lines of code to do. We can reduce this 1 line with list comprehensions."
   ]
  },
  {
   "cell_type": "code",
   "execution_count": 168,
   "metadata": {
    "collapsed": false
   },
   "outputs": [
    {
     "name": "stdout",
     "output_type": "stream",
     "text": [
      "['hello', 'hello', 'hello', 'hello', 'hello', 'hello', 'hello', 'hello', 'hello', 'hello']\n"
     ]
    }
   ],
   "source": [
    "# Now, using a list comprehension\n",
    "my_list = [\"hello\" for count in range(0,10)]\n",
    "print(my_list)"
   ]
  },
  {
   "cell_type": "markdown",
   "metadata": {},
   "source": [
    "Let's breakdown the usage of a list comprehension.\n",
    "\n",
    "    lst_here = [object_to_add for loop_control_variable in range(start, end)]\n",
    "\n",
    "where \"lst_here\" is the new list, \"object_to_add\" is what is appended to the list after running the for-loop, where \"loop_control_variable\" assumes the values given in the range start to end, where end is exclusive. ** We will discuss Pythonic Code in the form of list comprehensions and other constructs much, much more in detail (a whole notebook) later in the course. Just keep it in mind, as we will be using it very often.** Below are a few more examples of the list comprehesion - see if you can understand them!"
   ]
  },
  {
   "cell_type": "code",
   "execution_count": 169,
   "metadata": {
    "collapsed": false
   },
   "outputs": [
    {
     "name": "stdout",
     "output_type": "stream",
     "text": [
      "[0, 1, 4, 9, 16, 25, 36, 49, 64, 81]\n"
     ]
    }
   ],
   "source": [
    "# Storing the squares of 0-9 in a list with a list comprehension\n",
    "my_list = [x**2 for x in range(0,10)]\n",
    "print(my_list)"
   ]
  },
  {
   "cell_type": "code",
   "execution_count": 177,
   "metadata": {
    "collapsed": false
   },
   "outputs": [
    {
     "name": "stdout",
     "output_type": "stream",
     "text": [
      "Non-pythonic: ['miranda is cool', 'mike is cool', 'john is cool']\n",
      "Pythonic: ['miranda is cool', 'mike is cool', 'john is cool']\n"
     ]
    }
   ],
   "source": [
    "# Non-Pythonically\n",
    "my_list = []\n",
    "for name in [\"miranda\", \"mike\", \"john\"]:\n",
    "    my_list.append(name + \" is cool\")\n",
    "print(\"Non-pythonic:\", my_list)\n",
    "\n",
    "# Pythonically\n",
    "my_list = [name+\" is cool\" for name in [\"miranda\", \"mike\", \"john\"]]\n",
    "print(\"Pythonic:\",my_list)"
   ]
  },
  {
   "cell_type": "markdown",
   "metadata": {},
   "source": [
    "### Other Pythonic Specifications"
   ]
  },
  {
   "cell_type": "markdown",
   "metadata": {},
   "source": [
    "There are many Pythonic constructs, and we will use almost all of them. There will be a whole notebook covering Pythonic code after we cover the rest of the object and data structure and control flow lectures. For now, refer to this guide: http://python.net/~goodger/projects/pycon/2007/idiomatic/handout.html"
   ]
  }
 ],
 "metadata": {
  "kernelspec": {
   "display_name": "Python 3",
   "language": "python",
   "name": "python3"
  },
  "language_info": {
   "codemirror_mode": {
    "name": "ipython",
    "version": 3
   },
   "file_extension": ".py",
   "mimetype": "text/x-python",
   "name": "python",
   "nbconvert_exporter": "python",
   "pygments_lexer": "ipython3",
   "version": "3.5.1"
  }
 },
 "nbformat": 4,
 "nbformat_minor": 0
}
