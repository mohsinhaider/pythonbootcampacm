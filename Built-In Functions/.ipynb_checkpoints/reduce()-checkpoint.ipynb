{
 "cells": [
  {
   "cell_type": "markdown",
   "metadata": {},
   "source": [
    "# Reduce"
   ]
  },
  {
   "cell_type": "markdown",
   "metadata": {},
   "source": [
    "The reduce function continously applies a function to a sequence. Like map, reduce has the same genera syntax:\n",
    "\n",
    "    reduce(function, sequence)\n",
    "    \n",
    "Semantically, the initial call of reduce is actually where the difference between map() exists. Reduce takes the first two items from the sequence, and applies function on the items, returning a single item. Now, the list is dynamically changed so that the two previous items in the sequence are replaced with a single, combined item.\n",
    "\n",
    "    reduce(function, [item1, item2, item3, item4])\n",
    "    ---> [function(item1, item2), item3, item 4]\n",
    "    ---> [function(function(item1, item2), item3), item4]\n",
    "    ---> [function(function(function(item1, item2), item3) item4)]\n",
    "    \n",
    "The last arrow is the single combined item of all 4 items. Let's take a look at a few examples."
   ]
  },
  {
   "cell_type": "markdown",
   "metadata": {},
   "source": [
    "**Example 1**: Finding the sum of a list."
   ]
  },
  {
   "cell_type": "code",
   "execution_count": 17,
   "metadata": {
    "collapsed": false
   },
   "outputs": [],
   "source": [
    "from functools import reduce\n",
    "\n",
    "find_my_sum = [5, 3, 19, 48, 2, 31, 29]\n",
    "\n",
    "def sum_func(x, y):\n",
    "    return x + y\n",
    "\n",
    "total = reduce(sum_func, find_my_sum)"
   ]
  },
  {
   "cell_type": "code",
   "execution_count": 18,
   "metadata": {
    "collapsed": false
   },
   "outputs": [
    {
     "name": "stdout",
     "output_type": "stream",
     "text": [
      "137\n"
     ]
    }
   ],
   "source": [
    "print(total)"
   ]
  },
  {
   "cell_type": "markdown",
   "metadata": {},
   "source": [
    "Let's look at how it worked. First, we made a list, and defined the function. After we supplied the arguments, the reduce function spreaded as described above.\n",
    "\n",
    "    1. total = [5, 3, 19, 48, 2, 31, 29]\n",
    "    2. total = [sum_func(5, 3), 19, 48, 2, 31, 29]\n",
    "    3. total = [sum_func(8, 19), 48, 2, 31, 29]\n",
    "    4. total = [sum_func(27, 48), 2, 31, 29]\n",
    "    5. total = [sum_func(75, 2), 31, 29]\n",
    "    6. total = [sum_func(77, 31), 29]\n",
    "    7. total = [sum_func(108, 29)]\n",
    "    8. total = [137]\n",
    "    9. total = 137"
   ]
  },
  {
   "cell_type": "markdown",
   "metadata": {},
   "source": [
    "**Example 2** Creating a sentence out of a list of words."
   ]
  },
  {
   "cell_type": "code",
   "execution_count": 19,
   "metadata": {
    "collapsed": true
   },
   "outputs": [],
   "source": [
    "word_lst = [\"hello\", \"there\", \"martha\", \"how\", \"are\", \"you\", \"doing\"]\n",
    "sentence = reduce(lambda x,y: x + \" \" + y, word_lst)"
   ]
  },
  {
   "cell_type": "markdown",
   "metadata": {},
   "source": [
    "Here, we used a lambda expressiont unpack two variables (both strings), and then continue to create a sentence as the reduce continously applies the function at hand."
   ]
  },
  {
   "cell_type": "markdown",
   "metadata": {},
   "source": [
    "**Example 3** Finding the maximum of a sequence."
   ]
  },
  {
   "cell_type": "code",
   "execution_count": 23,
   "metadata": {
    "collapsed": false
   },
   "outputs": [],
   "source": [
    "nums = [5, 5, 39, 29, 48, 98, 23, 48]\n",
    "max_num = reduce(lambda num1,num2: num1 if num1 > num2 else num2, nums)"
   ]
  },
  {
   "cell_type": "code",
   "execution_count": 24,
   "metadata": {
    "collapsed": false
   },
   "outputs": [
    {
     "name": "stdout",
     "output_type": "stream",
     "text": [
      "98\n"
     ]
    }
   ],
   "source": [
    "print(max_num)"
   ]
  }
 ],
 "metadata": {
  "kernelspec": {
   "display_name": "Python 3",
   "language": "python",
   "name": "python3"
  },
  "language_info": {
   "codemirror_mode": {
    "name": "ipython",
    "version": 3
   },
   "file_extension": ".py",
   "mimetype": "text/x-python",
   "name": "python",
   "nbconvert_exporter": "python",
   "pygments_lexer": "ipython3",
   "version": "3.5.1"
  }
 },
 "nbformat": 4,
 "nbformat_minor": 0
}
