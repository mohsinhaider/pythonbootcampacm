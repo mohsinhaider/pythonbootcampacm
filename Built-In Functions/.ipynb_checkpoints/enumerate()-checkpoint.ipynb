{
 "cells": [
  {
   "cell_type": "markdown",
   "metadata": {},
   "source": [
    "# enumerate()"
   ]
  },
  {
   "cell_type": "markdown",
   "metadata": {},
   "source": [
    "The enumerate function enumerates elements in an iterable. We can use the enumerate function easily with\n",
    "\n",
    "    enumerate(iterable, start=#)\n",
    "\n",
    "and expect the iterable to be enumerated. There are a few use cases you should be familiar with."
   ]
  },
  {
   "cell_type": "markdown",
   "metadata": {},
   "source": [
    "**Example 1** Enumerate a list of names"
   ]
  },
  {
   "cell_type": "code",
   "execution_count": 4,
   "metadata": {
    "collapsed": false
   },
   "outputs": [
    {
     "name": "stdout",
     "output_type": "stream",
     "text": [
      "[(0, 'Pelsmajor'), (1, 'Rudy'), (2, 'Ali'), (3, 'Derulo')]\n"
     ]
    }
   ],
   "source": [
    "names = [\"Pelsmajor\", \"Rudy\", \"Ali\", \"Derulo\"]\n",
    "names_numbers = list(enumerate(names))\n",
    "print(names_numbers)"
   ]
  },
  {
   "cell_type": "markdown",
   "metadata": {},
   "source": [
    "**Example 2** Let's do the example before, but start at a more \"human readable\" 1."
   ]
  },
  {
   "cell_type": "code",
   "execution_count": 6,
   "metadata": {
    "collapsed": false
   },
   "outputs": [
    {
     "name": "stdout",
     "output_type": "stream",
     "text": [
      "[(1, 'Pelsmajor'), (2, 'Rudy'), (3, 'Ali'), (4, 'Derulo')]\n"
     ]
    }
   ],
   "source": [
    "names = [\"Pelsmajor\", \"Rudy\", \"Ali\", \"Derulo\"]\n",
    "names_numbers = list(enumerate(names, start=1))\n",
    "print(names_numbers)"
   ]
  },
  {
   "cell_type": "markdown",
   "metadata": {},
   "source": [
    "**Example 3** As opposed to a counter! Instead of making a counter variable, you can specify enumerate(iterable) in your for statement. We know that enumerate returns a tuple of (item no., item) so we can unpact the tuple by specifying a count and item variable in the loop."
   ]
  },
  {
   "cell_type": "code",
   "execution_count": 8,
   "metadata": {
    "collapsed": false
   },
   "outputs": [
    {
     "name": "stdout",
     "output_type": "stream",
     "text": [
      "0, Bahamas\n",
      "1, New York\n",
      "2, Seoul\n",
      "3, Shanghai\n",
      "4, Bangkok\n",
      "5, London\n",
      "6, Islamabad\n",
      "7, Quebec\n",
      "8, Mumbai\n"
     ]
    }
   ],
   "source": [
    "vacation = [\"Bahamas\", \"New York\", \"Seoul\", \"Shanghai\", \"Bangkok\", \"London\", \"Islamabad\", \"Quebec\", \"Mumbai\"]\n",
    "\n",
    "for count, item in enumerate(vacation):\n",
    "    print(\"{}, {}\".format(count, item))"
   ]
  }
 ],
 "metadata": {
  "kernelspec": {
   "display_name": "Python 3",
   "language": "python",
   "name": "python3"
  },
  "language_info": {
   "codemirror_mode": {
    "name": "ipython",
    "version": 3
   },
   "file_extension": ".py",
   "mimetype": "text/x-python",
   "name": "python",
   "nbconvert_exporter": "python",
   "pygments_lexer": "ipython3",
   "version": "3.5.1"
  }
 },
 "nbformat": 4,
 "nbformat_minor": 0
}
