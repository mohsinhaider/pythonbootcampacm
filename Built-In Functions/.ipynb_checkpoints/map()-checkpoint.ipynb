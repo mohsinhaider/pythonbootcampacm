{
 "cells": [
  {
   "cell_type": "markdown",
   "metadata": {},
   "source": [
    "# Map"
   ]
  },
  {
   "cell_type": "markdown",
   "metadata": {},
   "source": [
    "The map function applies a supplied function to the elements in a sequence. The syntax is as follows:\n",
    "\n",
    "    map(function, sequence)\n",
    "    \n",
    "In return, the map sends a list of the sequences transformed by the function sent in. An easy, practical example to cover is conversions. We can convert the items in a sequence to what we want to, without leaving the list, with the map() function. The function we write will not take the sequence as a whole. You must write the function as if you are taking a single element from the sequence."
   ]
  },
  {
   "cell_type": "markdown",
   "metadata": {},
   "source": [
    "**Example 1** Transforming a sequence of day values into hours."
   ]
  },
  {
   "cell_type": "code",
   "execution_count": 5,
   "metadata": {
    "collapsed": false
   },
   "outputs": [],
   "source": [
    "# Function to apply\n",
    "def days(hour):\n",
    "    return hour/24\n",
    "        \n",
    "# Sequence to transform\n",
    "hour_list = [4.0, 24.0, 47, 72.0]\n",
    "\n",
    "# Map\n",
    "days_list = list(map(days, hour_list))"
   ]
  },
  {
   "cell_type": "code",
   "execution_count": 8,
   "metadata": {
    "collapsed": false
   },
   "outputs": [
    {
     "name": "stdout",
     "output_type": "stream",
     "text": [
      "[0.16666666666666666, 1.0, 1.9583333333333333, 3.0]\n"
     ]
    }
   ],
   "source": [
    "print(days_list)"
   ]
  },
  {
   "cell_type": "markdown",
   "metadata": {},
   "source": [
    "It's a great time to start using lambdas. Lambda expressions were made for operations like the map() function. Let's try it out in the next example."
   ]
  },
  {
   "cell_type": "markdown",
   "metadata": {},
   "source": [
    "**Example 2** You have a database of male names, and you need to send letters out to said people. Add the prefix \"Mr.\" to every man's name."
   ]
  },
  {
   "cell_type": "code",
   "execution_count": 10,
   "metadata": {
    "collapsed": false
   },
   "outputs": [],
   "source": [
    "# Sequence to transform\n",
    "male_names = [\"Rick\", \"Rocky\", \"Charles\", \"Peter\"]\n",
    "\n",
    "# Map\n",
    "mr_male_names = list(map(lambda name: \"Mr. \" + name, male_names))"
   ]
  },
  {
   "cell_type": "code",
   "execution_count": 11,
   "metadata": {
    "collapsed": false
   },
   "outputs": [
    {
     "name": "stdout",
     "output_type": "stream",
     "text": [
      "['Mr. Rick', 'Mr. Rocky', 'Mr. Charles', 'Mr. Peter']\n"
     ]
    }
   ],
   "source": [
    "print(mr_male_names)"
   ]
  },
  {
   "cell_type": "markdown",
   "metadata": {},
   "source": [
    "## Applying Map to Multiple Sequences"
   ]
  },
  {
   "cell_type": "markdown",
   "metadata": {},
   "source": [
    "You can apply map() to multiple sequences. A few good, immediate examples are combining sequences in some shape or form. Imagine you have the total scores of 3 players from 3 rounds, where each player X  score is item X. If we want the total score, we have to add them all up using bracket notation."
   ]
  },
  {
   "cell_type": "code",
   "execution_count": 15,
   "metadata": {
    "collapsed": false
   },
   "outputs": [],
   "source": [
    "# [player1score, player2score, player3score]\n",
    "round_1 = [8, 6, 9]\n",
    "round_2 = [5, 7, 7]\n",
    "round_3 = [8, 9, 6]\n",
    "\n",
    "round_totals = list(map(lambda r_1, r_2, r_3: r_1 + r_2 + r_3, round_1, round_2, round_3))"
   ]
  },
  {
   "cell_type": "code",
   "execution_count": 16,
   "metadata": {
    "collapsed": false
   },
   "outputs": [
    {
     "name": "stdout",
     "output_type": "stream",
     "text": [
      "[21, 22, 22]\n"
     ]
    }
   ],
   "source": [
    "print(round_totals)"
   ]
  }
 ],
 "metadata": {
  "kernelspec": {
   "display_name": "Python 3",
   "language": "python",
   "name": "python3"
  },
  "language_info": {
   "codemirror_mode": {
    "name": "ipython",
    "version": 3
   },
   "file_extension": ".py",
   "mimetype": "text/x-python",
   "name": "python",
   "nbconvert_exporter": "python",
   "pygments_lexer": "ipython3",
   "version": "3.5.1"
  }
 },
 "nbformat": 4,
 "nbformat_minor": 0
}
