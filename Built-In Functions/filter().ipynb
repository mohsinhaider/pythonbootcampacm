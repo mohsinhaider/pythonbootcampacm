{
 "cells": [
  {
   "cell_type": "markdown",
   "metadata": {},
   "source": [
    "# Filter"
   ]
  },
  {
   "cell_type": "markdown",
   "metadata": {},
   "source": [
    "The filter function filters an iterable to what specific data you want. Here's the syntax:\n",
    "\n",
    "    filter(function, iterable)\n",
    "    \n",
    "As you would expect like in map() and reduce(), we are going to use lambda expressions for the most part using filter. In Python 3, filter returns a filter object. You need to cast it to a list."
   ]
  },
  {
   "cell_type": "markdown",
   "metadata": {},
   "source": [
    "**Example 1** Words that start with 'M'"
   ]
  },
  {
   "cell_type": "code",
   "execution_count": 17,
   "metadata": {
    "collapsed": false
   },
   "outputs": [
    {
     "name": "stdout",
     "output_type": "stream",
     "text": [
      "['moo', 'malicious']\n"
     ]
    }
   ],
   "source": [
    "words = [\"moo\", \"noon\", \"height\", \"malicious\", \"regex\"]\n",
    "m_words = filter(lambda word: word if word[0].lower() == 'm' else None, words)\n",
    "print(list(m_words))"
   ]
  },
  {
   "cell_type": "markdown",
   "metadata": {},
   "source": [
    "**Example 2** The mandatory even number example"
   ]
  },
  {
   "cell_type": "code",
   "execution_count": 19,
   "metadata": {
    "collapsed": false
   },
   "outputs": [
    {
     "name": "stdout",
     "output_type": "stream",
     "text": [
      "[6, 38, 58, 56, 8]\n"
     ]
    }
   ],
   "source": [
    "numbers = [3, 6, 38, 57, 37, 58, 25 , 47, 56, 3 , 8 , 9]\n",
    "even = filter(lambda num: num % 2 == 0, numbers)\n",
    "print(list(even))"
   ]
  }
 ],
 "metadata": {
  "kernelspec": {
   "display_name": "Python 3",
   "language": "python",
   "name": "python3"
  },
  "language_info": {
   "codemirror_mode": {
    "name": "ipython",
    "version": 3
   },
   "file_extension": ".py",
   "mimetype": "text/x-python",
   "name": "python",
   "nbconvert_exporter": "python",
   "pygments_lexer": "ipython3",
   "version": "3.5.1"
  }
 },
 "nbformat": 4,
 "nbformat_minor": 0
}
