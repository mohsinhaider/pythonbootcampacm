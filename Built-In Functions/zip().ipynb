{
 "cells": [
  {
   "cell_type": "markdown",
   "metadata": {},
   "source": [
    "# Zip"
   ]
  },
  {
   "cell_type": "markdown",
   "metadata": {},
   "source": [
    "The zip function makes an iterator that aggregates elements from each of the iterables into tuples. This means that the zip() function is supplied two iterables, and makes an iterator that calls the next() function on both iterables until one of them runs out (or both, if the iterables are of the same size) and returns tuples of (iter1, iter2, ... itern) until either iter1, iter2, or itern runs out of items.\n",
    "\n",
    "    zip(iterable1, iterable2, ....)\n",
    "    \n",
    "Let's see how this could be helpful."
   ]
  },
  {
   "cell_type": "markdown",
   "metadata": {},
   "source": [
    "** Example 1 ** Basic zipping of two lists"
   ]
  },
  {
   "cell_type": "code",
   "execution_count": 3,
   "metadata": {
    "collapsed": false
   },
   "outputs": [
    {
     "name": "stdout",
     "output_type": "stream",
     "text": [
      "[(1, 6), (3, 4), (4, 3), (5, 4)]\n"
     ]
    }
   ],
   "source": [
    "lst1 = [1, 3, 4, 5]\n",
    "lst2 = [6, 4, 3, 4]\n",
    "\n",
    "combined = list(zip(lst1, lst2))\n",
    "\n",
    "print(combined)"
   ]
  },
  {
   "cell_type": "markdown",
   "metadata": {},
   "source": [
    "**Example 2** Adding another list to combine personal information"
   ]
  },
  {
   "cell_type": "code",
   "execution_count": 8,
   "metadata": {
    "collapsed": false
   },
   "outputs": [
    {
     "name": "stdout",
     "output_type": "stream",
     "text": [
      "[('Micah', 32, 'F'), ('Joanna', 21, 'F'), ('Rocky', 39, 'M'), ('Mike', 19, 'M')]\n"
     ]
    }
   ],
   "source": [
    "lst1 = [\"Micah\", \"Joanna\", \"Rocky\", \"Mike\"]\n",
    "lst2 = [32, 21, 39, 19]\n",
    "lst3 = [\"F\", \"F\", \"M\", \"M\"]\n",
    "\n",
    "final_lst = list(zip(lst1, lst2, lst3))\n",
    "\n",
    "print(final_lst)"
   ]
  }
 ],
 "metadata": {
  "kernelspec": {
   "display_name": "Python 3",
   "language": "python",
   "name": "python3"
  },
  "language_info": {
   "codemirror_mode": {
    "name": "ipython",
    "version": 3
   },
   "file_extension": ".py",
   "mimetype": "text/x-python",
   "name": "python",
   "nbconvert_exporter": "python",
   "pygments_lexer": "ipython3",
   "version": "3.5.1"
  }
 },
 "nbformat": 4,
 "nbformat_minor": 0
}
