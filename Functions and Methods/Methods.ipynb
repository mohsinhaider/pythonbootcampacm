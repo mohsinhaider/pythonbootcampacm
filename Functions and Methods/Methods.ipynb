{
 "cells": [
  {
   "cell_type": "markdown",
   "metadata": {},
   "source": [
    "# Methods"
   ]
  },
  {
   "cell_type": "markdown",
   "metadata": {},
   "source": [
    "The distinction between methods and functions is somewhat sublte. They are functions that are built into objects, and are a subclass of functions. Functions are \"general purpose\" and do not belong to objects. We've talked about list, tuple, string, and dictionary methods. Even numbers themselves have methods. Any call to a function that belongs to an object is called a method. The format is the following:\n",
    "\n",
    "    object.method(arg1, arg2..)\n",
    "    \n",
    "We can observe that there is an object here."
   ]
  },
  {
   "cell_type": "markdown",
   "metadata": {},
   "source": [
    "Let's create a list object and try out some built-in methods (we can even create our own methods, coming in the next chapter)."
   ]
  },
  {
   "cell_type": "code",
   "execution_count": null,
   "metadata": {
    "collapsed": true
   },
   "outputs": [],
   "source": []
  },
  {
   "cell_type": "markdown",
   "metadata": {},
   "source": [
    "## Number Methods"
   ]
  },
  {
   "cell_type": "code",
   "execution_count": 33,
   "metadata": {
    "collapsed": false
   },
   "outputs": [
    {
     "name": "stdout",
     "output_type": "stream",
     "text": [
      "5\n",
      "0\n",
      "4\n",
      "1.0\n"
     ]
    }
   ],
   "source": [
    "# Numbers have methods, too\n",
    "my_num = 2\n",
    "print(my_num.__add__(3))\n",
    "print(my_num.__sub__(2))\n",
    "print(my_num.__mul__(2))\n",
    "print(my_num.__truediv__(2))"
   ]
  },
  {
   "cell_type": "markdown",
   "metadata": {},
   "source": [
    "## List Methods (Recap)"
   ]
  },
  {
   "cell_type": "code",
   "execution_count": 37,
   "metadata": {
    "collapsed": false
   },
   "outputs": [
    {
     "name": "stdout",
     "output_type": "stream",
     "text": [
      "After appending ['Bonet', 'Triggly', 'Ross', 'Triggly']\n",
      "After copying ['Bonet', 'Triggly', 'Ross', 'Triggly']\n",
      "After clearing []\n",
      "After insertion: ['Bonet', 'Triggly', 'Triggly', 'Ross', 'Triggly']\n",
      "Count of specific word: 3\n"
     ]
    }
   ],
   "source": [
    "# These are examples of list methods.\n",
    "my_list = [\"Bonet\", \"Triggly\", \"Ross\"]\n",
    "\n",
    "my_list.append(\"Triggly\")\n",
    "print(\"After appending {}\".format(my_list))\n",
    "another_list = my_list.copy()\n",
    "print(\"After copying {}\".format(another_list))\n",
    "my_list.clear()\n",
    "print(\"After clearing {}\".format(my_list))\n",
    "another_list.insert(2, \"Triggly\")\n",
    "print(\"After insertion: {}\".format(another_list))\n",
    "the_count = another_list.count(\"Triggly\")\n",
    "print(\"Count of specific word: {}\".format(the_count))"
   ]
  },
  {
   "cell_type": "markdown",
   "metadata": {},
   "source": [
    "## Tuple Methods (Recap)"
   ]
  },
  {
   "cell_type": "code",
   "execution_count": 38,
   "metadata": {
    "collapsed": false
   },
   "outputs": [
    {
     "name": "stdout",
     "output_type": "stream",
     "text": [
      "2\n",
      "2\n"
     ]
    }
   ],
   "source": [
    "# These are some tuple methods\n",
    "my_tuple = (\"hate\", 19.0, \"redemption\", \"hate\")\n",
    "\n",
    "print(my_tuple.count(\"hate\"))\n",
    "print(my_tuple.index(\"redemption\"))"
   ]
  },
  {
   "cell_type": "markdown",
   "metadata": {},
   "source": [
    "## Dictionary Methods (Recap)"
   ]
  },
  {
   "cell_type": "code",
   "execution_count": 39,
   "metadata": {
    "collapsed": false
   },
   "outputs": [
    {
     "name": "stdout",
     "output_type": "stream",
     "text": [
      "[1, 48, 29]\n"
     ]
    }
   ],
   "source": [
    "# These are Dictionary Methods\n",
    "my_dict = {\"Sally\":19, \"Robert\":[1, 48, 29], \"Wallace\":0}\n",
    "\n",
    "keys = list(my_dict.keys())\n",
    "values = list(my_dict.values())\n",
    "popped_value = my_dict.pop(\"Robert\")\n",
    "print(popped_key)"
   ]
  }
 ],
 "metadata": {
  "kernelspec": {
   "display_name": "Python 3",
   "language": "python",
   "name": "python3"
  },
  "language_info": {
   "codemirror_mode": {
    "name": "ipython",
    "version": 3
   },
   "file_extension": ".py",
   "mimetype": "text/x-python",
   "name": "python",
   "nbconvert_exporter": "python",
   "pygments_lexer": "ipython3",
   "version": "3.5.1"
  }
 },
 "nbformat": 4,
 "nbformat_minor": 0
}
