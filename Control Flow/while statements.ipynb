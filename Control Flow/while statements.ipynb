{
 "cells": [
  {
   "cell_type": "markdown",
   "metadata": {},
   "source": [
    "## While Statements"
   ]
  },
  {
   "cell_type": "markdown",
   "metadata": {},
   "source": [
    "Iteration comes in different forms. When you want event based iteration, use while statements. Otherwise, for statements are a suitable option. You are probably familiar with while statements from other programming languages, so use cases should be clear. We will talk about syntax and some basic examples regardless, however."
   ]
  },
  {
   "cell_type": "markdown",
   "metadata": {},
   "source": [
    "The syntax of a while statement in Python is the following:\n",
    "\n",
    "    while event:\n",
    "        // code\n",
    "        \n",
    "It is not much different from the for loop, and often constructs can be made similar. Let's look at a few examples."
   ]
  },
  {
   "cell_type": "markdown",
   "metadata": {},
   "source": [
    "**Example 1** Let's iterate over a list until all of the items are popped of."
   ]
  },
  {
   "cell_type": "code",
   "execution_count": 8,
   "metadata": {
    "collapsed": false
   },
   "outputs": [
    {
     "name": "stdout",
     "output_type": "stream",
     "text": [
      "33\n",
      "The Dark Knight\n",
      "19.0\n",
      "commie\n"
     ]
    }
   ],
   "source": [
    "lst = [\"commie\", 19.0, \"The Dark Knight\", 33]\n",
    "\n",
    "while lst:\n",
    "    print(lst.pop())"
   ]
  },
  {
   "cell_type": "markdown",
   "metadata": {},
   "source": [
    "How does this work? Well, the while loop will run as long as the lst does not evaluate to None (when it is *theoretically* empty). Because we print what we pop, we get to print out all of the items and then then when the lst is gone (there are no items)."
   ]
  },
  {
   "cell_type": "markdown",
   "metadata": {},
   "source": [
    "**Example 2** We print until we reach a number that is a multiple of 4 and 3."
   ]
  },
  {
   "cell_type": "code",
   "execution_count": 22,
   "metadata": {
    "collapsed": false
   },
   "outputs": [
    {
     "name": "stdout",
     "output_type": "stream",
     "text": [
      "12\n"
     ]
    }
   ],
   "source": [
    "# think: until number % 4 == 0 and number % 3 == 0\n",
    "number = 1\n",
    "while number % 4 != 0 or number % 3 != 0:\n",
    "    number += 1\n",
    "print(number)"
   ]
  }
 ],
 "metadata": {
  "kernelspec": {
   "display_name": "Python 3",
   "language": "python",
   "name": "python3"
  },
  "language_info": {
   "codemirror_mode": {
    "name": "ipython",
    "version": 3
   },
   "file_extension": ".py",
   "mimetype": "text/x-python",
   "name": "python",
   "nbconvert_exporter": "python",
   "pygments_lexer": "ipython3",
   "version": "3.5.1"
  }
 },
 "nbformat": 4,
 "nbformat_minor": 0
}
