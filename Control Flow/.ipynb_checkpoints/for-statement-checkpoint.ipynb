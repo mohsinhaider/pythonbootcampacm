{
 "cells": [
  {
   "cell_type": "markdown",
   "metadata": {},
   "source": [
    "# For Statement"
   ]
  },
  {
   "cell_type": "markdown",
   "metadata": {},
   "source": [
    "Iteration is a key to success in programming. Perhaps, it's the very reason the computer was even concepted. Most are familiar with the uses of a for-statement, and nothing changes semantically in Python. Syntax differs, but use cases are the same. Let's take a look!"
   ]
  },
  {
   "cell_type": "markdown",
   "metadata": {},
   "source": [
    "The for statement is used for iteration. We can do the same task multiple times with a single for statement. There are many varying syntaxes, and we will look at all of them. Let's look at the basics:\n",
    "\n",
    "    for item in domain:\n",
    "        // code\n",
    "\n",
    "For loops typically **iterate over** elements in a domain. These elements can be any type as item takes on the value of each consecutive value of the domain. A domain can be a data structure like a list, tuple, dictionary, etc., it could be a range of numbers. In specific, it is anything that is of type **Iterable**. Let's look at a few examples of using the for statement."
   ]
  },
  {
   "cell_type": "markdown",
   "metadata": {},
   "source": [
    "**Example 1** A natural example is to assume that we have a list of objects. Let's say we have a list of names, and we want to print all of them. We could seperately access each one.. that's too slow.. we put 2 and 2 together and decide to use a for statement."
   ]
  },
  {
   "cell_type": "code",
   "execution_count": 26,
   "metadata": {
    "collapsed": false
   },
   "outputs": [
    {
     "name": "stdout",
     "output_type": "stream",
     "text": [
      "Harry\n",
      "Joanna\n",
      "Micah\n",
      "Robertson\n"
     ]
    }
   ],
   "source": [
    "names = [\"Harry\", \"Joanna\", \"Micah\", \"Robertson\"]\n",
    "\n",
    "for name in names:\n",
    "    print(name)"
   ]
  },
  {
   "cell_type": "markdown",
   "metadata": {},
   "source": [
    "Let's think as to how it worked. We provided a list of 4 names. We specified the syntax as\n",
    "\n",
    "    for item in domain:\n",
    "        print(item)\n",
    "        \n",
    "where our item was a name, and domain was the list of names. We printed the name, and each time the loop ran it went to the next name until it hit \"Robertson\" and ran out of names to go to."
   ]
  },
  {
   "cell_type": "markdown",
   "metadata": {},
   "source": [
    "**Example 2** We can emulate the process with a tuple, too. Let's test it out. Here, we've inserted a movie name, the cost to go to the movie at the time, and the box office earnings in the first 24 hours."
   ]
  },
  {
   "cell_type": "code",
   "execution_count": 27,
   "metadata": {
    "collapsed": false
   },
   "outputs": [
    {
     "name": "stdout",
     "output_type": "stream",
     "text": [
      "Rocky 19.0 3400403 "
     ]
    }
   ],
   "source": [
    "my_tup = (\"Rocky\", 19.0, 3400403)\n",
    "for value in my_tup:\n",
    "    print(value, end=\" \")"
   ]
  },
  {
   "cell_type": "markdown",
   "metadata": {},
   "source": [
    "We iterated over the 3 values (movie name, cost, box office) by letting our variable \"value\" take on the identity of each object, and then get printed without making a newline character (\"\\n\")."
   ]
  },
  {
   "cell_type": "markdown",
   "metadata": {},
   "source": [
    "**Example 3** Iterating over dictionaries works, too. Let's print the stock count for a few employees at a startup."
   ]
  },
  {
   "cell_type": "code",
   "execution_count": 28,
   "metadata": {
    "collapsed": true
   },
   "outputs": [],
   "source": [
    "stock_dict = {\"Micah\":20, \"Loanthony\":31, \"Fofo\":12}"
   ]
  },
  {
   "cell_type": "code",
   "execution_count": 29,
   "metadata": {
    "collapsed": false
   },
   "outputs": [
    {
     "name": "stdout",
     "output_type": "stream",
     "text": [
      "Person: Loanthony   Stocks: 31\n",
      "Person: Micah   Stocks: 20\n",
      "Person: Fofo   Stocks: 12\n"
     ]
    }
   ],
   "source": [
    "for person in stock_dict:\n",
    "    print(\"Person: {x}   Stocks: {y}\".format(x=person,y=stock_dict[person]))"
   ]
  },
  {
   "cell_type": "markdown",
   "metadata": {},
   "source": [
    "Python has a range() function. Range simply allows us to specify a number range like this:\n",
    "    \n",
    "    range(inclusive, exclusive)\n",
    "    \n",
    "Where, in a for loop, the item variable takes on every value from the incusive up until the exclusive number."
   ]
  },
  {
   "cell_type": "code",
   "execution_count": 31,
   "metadata": {
    "collapsed": false
   },
   "outputs": [
    {
     "name": "stdout",
     "output_type": "stream",
     "text": [
      "0 is Even\n",
      "1 is Odd\n",
      "2 is Even\n",
      "3 is Odd\n",
      "4 is Even\n",
      "5 is Odd\n",
      "6 is Even\n",
      "7 is Odd\n"
     ]
    }
   ],
   "source": [
    "# Ranges start from 0 at default\n",
    "for num in range(8):\n",
    "    odd_or_even = None\n",
    "    if num % 2 == 0:\n",
    "        odd_or_even = \"Even\"\n",
    "    else:\n",
    "        odd_or_even = \"Odd\"\n",
    "    print(\"{x} is {y}\".format(x=num, y=odd_or_even))\n",
    "    "
   ]
  }
 ],
 "metadata": {
  "kernelspec": {
   "display_name": "Python 3",
   "language": "python",
   "name": "python3"
  },
  "language_info": {
   "codemirror_mode": {
    "name": "ipython",
    "version": 3
   },
   "file_extension": ".py",
   "mimetype": "text/x-python",
   "name": "python",
   "nbconvert_exporter": "python",
   "pygments_lexer": "ipython3",
   "version": "3.5.1"
  }
 },
 "nbformat": 4,
 "nbformat_minor": 0
}
