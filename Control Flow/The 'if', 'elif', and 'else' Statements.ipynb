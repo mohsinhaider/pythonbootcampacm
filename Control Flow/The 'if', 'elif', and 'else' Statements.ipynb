{
 "cells": [
  {
   "cell_type": "markdown",
   "metadata": {},
   "source": [
    "# If, Elif, Else Statements"
   ]
  },
  {
   "cell_type": "markdown",
   "metadata": {},
   "source": [
    "Programming starts and ends at control flow. Decisions need to be made to carry out the functions you write. We make decisions use the if, elif, and else statement. Like any other programming language, the semantics of the statements work the same, but the syntax differs. Let's try some examples."
   ]
  },
  {
   "cell_type": "code",
   "execution_count": 7,
   "metadata": {
    "collapsed": false
   },
   "outputs": [
    {
     "name": "stdout",
     "output_type": "stream",
     "text": [
      "Vamanos!\n"
     ]
    }
   ],
   "source": [
    "you = \"ready\"\n",
    "\n",
    "if you == \"ready\":\n",
    "    print(\"Vamanos!\")\n",
    "else:\n",
    "    print(\"What's wrong?\")"
   ]
  },
  {
   "cell_type": "markdown",
   "metadata": {},
   "source": [
    "Imagine you've written a magic number program, and the system outputs a message to indicate your correctness. Here, the if checks the most specific condition -> if the user is right. As we move down, we become more general. This is the typical layout of control flow in programming."
   ]
  },
  {
   "cell_type": "code",
   "execution_count": 5,
   "metadata": {
    "collapsed": false
   },
   "outputs": [
    {
     "name": "stdout",
     "output_type": "stream",
     "text": [
      "Wrong!\n"
     ]
    }
   ],
   "source": [
    "magic_number = 24\n",
    "my_guess = 29\n",
    "\n",
    "if my_guess == magic_number:\n",
    "    print(\"Correct!\")\n",
    "elif magic_number == (my_guess-1) or magic_number == (my_guess+1):\n",
    "    print(\"So, so close!\")\n",
    "else:\n",
    "    print(\"Wrong!\")"
   ]
  },
  {
   "cell_type": "markdown",
   "metadata": {},
   "source": [
    "Let's output a message depending on where you are going."
   ]
  },
  {
   "cell_type": "code",
   "execution_count": 6,
   "metadata": {
    "collapsed": false
   },
   "outputs": [
    {
     "name": "stdout",
     "output_type": "stream",
     "text": [
      "Run those errands!\n"
     ]
    }
   ],
   "source": [
    "my_place = \"Grocery store\"\n",
    "\n",
    "if my_place == \"work\":\n",
    "    print(\"Clock out early!\")\n",
    "elif my_place == \"Grocery store\":\n",
    "    print(\"Run those errands!\")\n",
    "else:\n",
    "    print(\"Where are you going?\")"
   ]
  },
  {
   "cell_type": "markdown",
   "metadata": {},
   "source": [
    "We can nest ifs, elifs, and elses, too!"
   ]
  },
  {
   "cell_type": "code",
   "execution_count": 9,
   "metadata": {
    "collapsed": false
   },
   "outputs": [
    {
     "name": "stdout",
     "output_type": "stream",
     "text": [
      "Pet: Dog\n",
      "Breed: Labrador\n"
     ]
    }
   ],
   "source": [
    "pet = \"Dog\"\n",
    "breed = \"Labrador\"\n",
    "\n",
    "if pet == \"Cat\":\n",
    "    print(\"Pet: cat\")\n",
    "    if breed == \"Siberian\":\n",
    "        print(\"Breed: Siberian\")\n",
    "    else:\n",
    "        print(\"Breed: Not specified clearly\")\n",
    "elif pet == \"Dog\":\n",
    "    print(\"Pet: Dog\")\n",
    "    if breed == \"Labrador\":\n",
    "        print(\"Breed: Labrador\")\n",
    "    elif breed == \"Husky\":\n",
    "        print(\"Breed: Husky\")\n",
    "    else:\n",
    "        print(\"Breed: Not specified clearly\")\n",
    "else:\n",
    "    print(\"I have no idea what that is!\")"
   ]
  }
 ],
 "metadata": {
  "kernelspec": {
   "display_name": "Python 3",
   "language": "python",
   "name": "python3"
  },
  "language_info": {
   "codemirror_mode": {
    "name": "ipython",
    "version": 3
   },
   "file_extension": ".py",
   "mimetype": "text/x-python",
   "name": "python",
   "nbconvert_exporter": "python",
   "pygments_lexer": "ipython3",
   "version": "3.5.1"
  }
 },
 "nbformat": 4,
 "nbformat_minor": 0
}
