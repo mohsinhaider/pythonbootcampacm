{
 "cells": [
  {
   "cell_type": "markdown",
   "metadata": {},
   "source": [
    "# Decorators"
   ]
  },
  {
   "cell_type": "markdown",
   "metadata": {},
   "source": [
    "Decorators are functions that alter the functionality of other functions without explicitly modifying them."
   ]
  },
  {
   "cell_type": "markdown",
   "metadata": {},
   "source": [
    "Understanding decorators requires one to understand the scope and objectivity of functions themselves."
   ]
  },
  {
   "cell_type": "markdown",
   "metadata": {},
   "source": [
    "## Functions inside other Functions"
   ]
  },
  {
   "cell_type": "code",
   "execution_count": 33,
   "metadata": {
    "collapsed": false
   },
   "outputs": [],
   "source": [
    "def is_even(n):\n",
    "    if n % 2 == 0:\n",
    "        print(\"yea!\")\n",
    "        \n",
    "    def is_mult_four():\n",
    "        if n % 4 == 0:\n",
    "            return \"yea, mod4!\"\n",
    "    \n",
    "    print(is_mult_four())\n",
    "    print(\"now in is_even_scope!\")"
   ]
  },
  {
   "cell_type": "code",
   "execution_count": 32,
   "metadata": {
    "collapsed": false
   },
   "outputs": [
    {
     "name": "stdout",
     "output_type": "stream",
     "text": [
      "yea!\n",
      "now in is_even_scope!\n",
      "None\n"
     ]
    }
   ],
   "source": [
    "print(is_even(4))"
   ]
  },
  {
   "cell_type": "markdown",
   "metadata": {},
   "source": [
    "## Returning Functions"
   ]
  },
  {
   "cell_type": "code",
   "execution_count": 35,
   "metadata": {
    "collapsed": false
   },
   "outputs": [],
   "source": [
    "def name_me(name):\n",
    "    def formal():\n",
    "        print(\"Sir {}, welcome!\".format(name))\n",
    "        \n",
    "    def informal():\n",
    "        print(\"Hey my friend!\")\n",
    "    \n",
    "    if name == \"friend\":\n",
    "        return informal\n",
    "    else:\n",
    "        return formal"
   ]
  },
  {
   "cell_type": "code",
   "execution_count": 41,
   "metadata": {
    "collapsed": false
   },
   "outputs": [],
   "source": [
    "x = name_me(\"friend\")"
   ]
  },
  {
   "cell_type": "code",
   "execution_count": 40,
   "metadata": {
    "collapsed": false
   },
   "outputs": [
    {
     "name": "stdout",
     "output_type": "stream",
     "text": [
      "Hey my friend!\n"
     ]
    }
   ],
   "source": [
    "x()"
   ]
  },
  {
   "cell_type": "code",
   "execution_count": 42,
   "metadata": {
    "collapsed": true
   },
   "outputs": [],
   "source": [
    "y = name_me(\"someone_else\")"
   ]
  },
  {
   "cell_type": "code",
   "execution_count": 43,
   "metadata": {
    "collapsed": false
   },
   "outputs": [
    {
     "name": "stdout",
     "output_type": "stream",
     "text": [
      "Sir someone_else, welcome!\n"
     ]
    }
   ],
   "source": [
    "y()"
   ]
  },
  {
   "cell_type": "markdown",
   "metadata": {},
   "source": [
    "## Functions as Arguments"
   ]
  },
  {
   "cell_type": "code",
   "execution_count": 57,
   "metadata": {
    "collapsed": false
   },
   "outputs": [],
   "source": [
    "def is_even(n):\n",
    "    if n % 2 == 0:\n",
    "        return (\"yes\", \"even\")\n",
    "    else:\n",
    "        return (\"no\", \"odd\")\n",
    "    \n",
    "def sentencify(func):\n",
    "    print(\"{}, it's {} mate!\".format(func[0], func[1]))"
   ]
  },
  {
   "cell_type": "code",
   "execution_count": 60,
   "metadata": {
    "collapsed": false
   },
   "outputs": [
    {
     "name": "stdout",
     "output_type": "stream",
     "text": [
      "no, it's odd mate!\n"
     ]
    }
   ],
   "source": [
    "sentencify(is_even(3))"
   ]
  },
  {
   "cell_type": "code",
   "execution_count": 61,
   "metadata": {
    "collapsed": false
   },
   "outputs": [
    {
     "name": "stdout",
     "output_type": "stream",
     "text": [
      "yes, it's even mate!\n"
     ]
    }
   ],
   "source": [
    "sentencify(is_even(2))"
   ]
  },
  {
   "cell_type": "markdown",
   "metadata": {},
   "source": [
    "# Decorator"
   ]
  },
  {
   "cell_type": "markdown",
   "metadata": {},
   "source": [
    "We're going to show an example of a decorator."
   ]
  },
  {
   "cell_type": "code",
   "execution_count": 143,
   "metadata": {
    "collapsed": false
   },
   "outputs": [],
   "source": [
    "def rejection_decorator(func):\n",
    "    def func_wrapper(name):\n",
    "        return \"Hello {},\\n\\tWe're sorry to inform about the decision.\\n-The Team\".format(func(name))\n",
    "    return func_wrapper\n",
    "\n",
    "@rejection_decorator\n",
    "def get_letter(name):\n",
    "    return name"
   ]
  },
  {
   "cell_type": "code",
   "execution_count": 144,
   "metadata": {
    "collapsed": false
   },
   "outputs": [
    {
     "name": "stdout",
     "output_type": "stream",
     "text": [
      "Hello John,\n",
      "\tWe're sorry to inform about the decision.\n",
      "-The Team\n"
     ]
    }
   ],
   "source": [
    "print(get_letter(\"John\"))"
   ]
  },
  {
   "cell_type": "markdown",
   "metadata": {},
   "source": [
    "### Multiple Decorators"
   ]
  },
  {
   "cell_type": "markdown",
   "metadata": {},
   "source": [
    "A function can have multiple decorators, and thus be altered quite a few times. Let's try an example where be implement bold, italics, and underline tags (that don't *actually* work), but look like they would have."
   ]
  },
  {
   "cell_type": "code",
   "execution_count": 164,
   "metadata": {
    "collapsed": true
   },
   "outputs": [],
   "source": [
    "def bold_decorator(func):\n",
    "    def func_wrapper(some_text):\n",
    "        return \"[b]{}[/b]\".format(func(some_text))\n",
    "    return func_wrapper\n",
    "\n",
    "def italic_decorator(func):\n",
    "    def func_wrapper(some_text):\n",
    "        return \"[i]{}[/i]\".format(func(some_text))\n",
    "    return func_wrapper\n",
    "\n",
    "def underline_decorator(func):\n",
    "    def func_wrapper(some_text):\n",
    "        return \"[u]{}[/u]\".format(func(some_text))\n",
    "    return func_wrapper\n",
    "\n",
    "@bold_decorator\n",
    "@italic_decorator\n",
    "@underline_decorator\n",
    "def text(some_text):\n",
    "    return some_text"
   ]
  },
  {
   "cell_type": "code",
   "execution_count": 165,
   "metadata": {
    "collapsed": false
   },
   "outputs": [
    {
     "name": "stdout",
     "output_type": "stream",
     "text": [
      "[b][i][u]Modify me![/u][/i][/b]\n"
     ]
    }
   ],
   "source": [
    "print(text(\"Modify me!\"))"
   ]
  }
 ],
 "metadata": {
  "kernelspec": {
   "display_name": "Python 3",
   "language": "python",
   "name": "python3"
  },
  "language_info": {
   "codemirror_mode": {
    "name": "ipython",
    "version": 3
   },
   "file_extension": ".py",
   "mimetype": "text/x-python",
   "name": "python",
   "nbconvert_exporter": "python",
   "pygments_lexer": "ipython3",
   "version": "3.5.1"
  }
 },
 "nbformat": 4,
 "nbformat_minor": 0
}
