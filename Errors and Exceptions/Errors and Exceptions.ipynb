{
 "cells": [
  {
   "cell_type": "markdown",
   "metadata": {},
   "source": [
    "# Errors and Exceptions"
   ]
  },
  {
   "cell_type": "markdown",
   "metadata": {},
   "source": [
    "Running into errors and exceptions is inevitable, and debugging is a huge part of modern-day product development. As of now, we've worked with the roots of Python syntax, and have encountered many types of errors that are built-in. Of course, as you proceed, you will pass more complex errors. Let's see how it's done."
   ]
  },
  {
   "cell_type": "markdown",
   "metadata": {},
   "source": [
    "Before explaining what an Exception is, let's look at a quick syntax error."
   ]
  },
  {
   "cell_type": "code",
   "execution_count": 1,
   "metadata": {
    "collapsed": false
   },
   "outputs": [
    {
     "ename": "SyntaxError",
     "evalue": "EOL while scanning string literal (<ipython-input-1-659f9ef84117>, line 2)",
     "output_type": "error",
     "traceback": [
      "\u001b[1;36m  File \u001b[1;32m\"<ipython-input-1-659f9ef84117>\"\u001b[1;36m, line \u001b[1;32m2\u001b[0m\n\u001b[1;33m    print(\"hey there)\u001b[0m\n\u001b[1;37m                     ^\u001b[0m\n\u001b[1;31mSyntaxError\u001b[0m\u001b[1;31m:\u001b[0m EOL while scanning string literal\n"
     ]
    }
   ],
   "source": [
    "# Producing an Error\n",
    "print(\"hey there)"
   ]
  },
  {
   "cell_type": "markdown",
   "metadata": {},
   "source": [
    "What if we wanted to prevent this error from stopping our program? For that case, we use what's called try-except statements. Here's the general syntax.\n",
    "\n",
    "    try:\n",
    "        // possible error inducing code\n",
    "    except Error:\n",
    "        // handle the error\n",
    "    except AnotherError:\n",
    "        // you can handle more than 1 error\n",
    "    else:\n",
    "        // if no exception runs\n",
    "    finally:\n",
    "        // run no matter what\n",
    "        \n",
    "This is the full syntax of try-except. We don't even need else or finally statements. However, we will use them after these basic examples."
   ]
  },
  {
   "cell_type": "markdown",
   "metadata": {},
   "source": [
    "**Example 1** Let's try catching a divide by 0 error."
   ]
  },
  {
   "cell_type": "code",
   "execution_count": 14,
   "metadata": {
    "collapsed": false
   },
   "outputs": [
    {
     "name": "stdout",
     "output_type": "stream",
     "text": [
      "There is no dividing by 0\n"
     ]
    }
   ],
   "source": [
    "# Catching a SyntaxError\n",
    "try:\n",
    "    print(8/0)\n",
    "except ZeroDivisionError:\n",
    "    print(\"There is no dividing by 0\")"
   ]
  },
  {
   "cell_type": "markdown",
   "metadata": {},
   "source": [
    "**Example 2** What if try sending in a string as a float?"
   ]
  },
  {
   "cell_type": "code",
   "execution_count": 15,
   "metadata": {
    "collapsed": false
   },
   "outputs": [
    {
     "name": "stdout",
     "output_type": "stream",
     "text": [
      "Put a number in there, man!\n"
     ]
    }
   ],
   "source": [
    "try:\n",
    "    user_input = float(\"Is this a float?\")\n",
    "except ValueError:\n",
    "    print(\"Put a number in there, man!\")"
   ]
  },
  {
   "cell_type": "markdown",
   "metadata": {},
   "source": [
    "Let's quickly go over else and finally. Recall, the else block will run if no exception runs, and the finally will always run."
   ]
  },
  {
   "cell_type": "markdown",
   "metadata": {},
   "source": [
    "** Example 3 ** Catching a TypeErrror (trying to mutate a string type - recall these sequences are immutable)"
   ]
  },
  {
   "cell_type": "code",
   "execution_count": 24,
   "metadata": {
    "collapsed": false
   },
   "outputs": [
    {
     "name": "stdout",
     "output_type": "stream",
     "text": [
      "We've got a TypeError\n",
      "Finally, I always print!\n"
     ]
    }
   ],
   "source": [
    "# Mutation of a String?\n",
    "try:\n",
    "    my_str = \"hello\"\n",
    "    my_str[1] = \"tr\"\n",
    "except TypeError:\n",
    "    print(\"We've got a TypeError\")\n",
    "else:\n",
    "    print(\"This shouldn't run!\")\n",
    "finally:\n",
    "    print(\"Finally, I always print!\")"
   ]
  },
  {
   "cell_type": "markdown",
   "metadata": {},
   "source": [
    "Let's look at some other features. "
   ]
  },
  {
   "cell_type": "markdown",
   "metadata": {},
   "source": [
    "** You can check for more than one exception! ** Now, it's important to understand that except block will only handle the first exception it finds. Order them in a tuple!\n",
    "\n",
    "One thing we have not discussed is that as soon as "
   ]
  },
  {
   "cell_type": "code",
   "execution_count": 31,
   "metadata": {
    "collapsed": false
   },
   "outputs": [
    {
     "name": "stdout",
     "output_type": "stream",
     "text": [
      "String mutate\n"
     ]
    }
   ],
   "source": [
    "# Broadening the except statement\n",
    "try:\n",
    "    str[0] == \"h\"\n",
    "except (TypeError, SyntaxError):\n",
    "    print(\"String mutate\")"
   ]
  },
  {
   "cell_type": "code",
   "execution_count": 36,
   "metadata": {
    "collapsed": false
   },
   "outputs": [
    {
     "name": "stdout",
     "output_type": "stream",
     "text": [
      "what!\n"
     ]
    }
   ],
   "source": [
    "# Trying to exce\n",
    "try:\n",
    "    print(4/0)\n",
    "    str[1] = \"e\"\n",
    "except (ZeroDivisionError, TypeError):\n",
    "    print(\"what!\")"
   ]
  },
  {
   "cell_type": "markdown",
   "metadata": {},
   "source": [
    "The last except (or the only one, if there's only one) doesn't need an Exception associated with it. It's know as the \"default except\"."
   ]
  },
  {
   "cell_type": "code",
   "execution_count": 39,
   "metadata": {
    "collapsed": false
   },
   "outputs": [
    {
     "name": "stdout",
     "output_type": "stream",
     "text": [
      "wow\n"
     ]
    }
   ],
   "source": [
    "try:\n",
    "    print(4/0)\n",
    "except:\n",
    "    print(\"wow\")"
   ]
  },
  {
   "cell_type": "code",
   "execution_count": 41,
   "metadata": {
    "collapsed": false
   },
   "outputs": [
    {
     "name": "stdout",
     "output_type": "stream",
     "text": [
      "ZeroDiv Error\n"
     ]
    }
   ],
   "source": [
    "# Catching the error in its respective statement\n",
    "try:\n",
    "    print(4/0)\n",
    "except ZeroDivisionError:\n",
    "    print(\"ZeroDiv Error\")\n",
    "except:\n",
    "    print(\"There's an error, I just don't know what!\")\n",
    "else:\n",
    "    print(\"There wasn't an error!\")"
   ]
  },
  {
   "cell_type": "code",
   "execution_count": 42,
   "metadata": {
    "collapsed": false
   },
   "outputs": [
    {
     "name": "stdout",
     "output_type": "stream",
     "text": [
      "There's an error, I just don't know what!\n"
     ]
    }
   ],
   "source": [
    "# Catching the error in the deault, if the specific except fails\n",
    "try:\n",
    "    str[4] = \"wow\"\n",
    "except ZeroDivisionError:\n",
    "    print(\"ZeroDiv Error\")\n",
    "except:\n",
    "    print(\"There's an error, I just don't know what!\")\n",
    "else:\n",
    "    print(\"There wasn't an error!\")"
   ]
  },
  {
   "cell_type": "markdown",
   "metadata": {},
   "source": [
    "## Raising Errors"
   ]
  },
  {
   "cell_type": "markdown",
   "metadata": {},
   "source": [
    "Sometimes, you may need to physically raise your own errors. This is possible with the raise keyword. It works as expected."
   ]
  },
  {
   "cell_type": "code",
   "execution_count": 44,
   "metadata": {
    "collapsed": false
   },
   "outputs": [
    {
     "name": "stdout",
     "output_type": "stream",
     "text": [
      "Error raised\n"
     ]
    }
   ],
   "source": [
    "try:\n",
    "    raise TypeError\n",
    "except TypeError:\n",
    "    print(\"Error raised\")"
   ]
  },
  {
   "cell_type": "code",
   "execution_count": 51,
   "metadata": {
    "collapsed": true
   },
   "outputs": [],
   "source": [
    "class MyException(Exception):\n",
    "    def __init__(self, result):\n",
    "        self.result = result\n",
    "    def __str__(self):\n",
    "        return \"MyException occured, result that caused it: {}\".format(self.result)"
   ]
  },
  {
   "cell_type": "markdown",
   "metadata": {},
   "source": [
    "Below, we'll catch it, and treat it with \"as\" to shorten the name and not cause the statement to confuse MyException."
   ]
  },
  {
   "cell_type": "code",
   "execution_count": 55,
   "metadata": {
    "collapsed": false
   },
   "outputs": [
    {
     "name": "stdout",
     "output_type": "stream",
     "text": [
      "MyException occured, result that caused it: error string\n"
     ]
    }
   ],
   "source": [
    "try:\n",
    "    raise MyException(\"error string\")\n",
    "except MyException as myexcep:\n",
    "    print(myexcep)"
   ]
  }
 ],
 "metadata": {
  "kernelspec": {
   "display_name": "Python 3",
   "language": "python",
   "name": "python3"
  },
  "language_info": {
   "codemirror_mode": {
    "name": "ipython",
    "version": 3
   },
   "file_extension": ".py",
   "mimetype": "text/x-python",
   "name": "python",
   "nbconvert_exporter": "python",
   "pygments_lexer": "ipython3",
   "version": "3.5.1"
  }
 },
 "nbformat": 4,
 "nbformat_minor": 0
}
